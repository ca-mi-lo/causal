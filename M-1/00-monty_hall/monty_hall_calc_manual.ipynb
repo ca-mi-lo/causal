{
 "cells": [
  {
   "cell_type": "markdown",
   "id": "ee7e80cb",
   "metadata": {},
   "source": [
    "El problema de Monty Hall\n",
    "(revisitado)\n",
    "\n",
    "* El concursante tiene una oportunidad de\n",
    "cambiar su elección después de haber visto\n",
    "MH:\n",
    "    * Si decide cambiar entonces X=2 y si no\n",
    "decide cambiar entonces X=0  \n",
    "* Si al finalizar el juego el concursante gana\n",
    "entonces Y = 1, de otra forma Y = -1\n",
    "\n",
    "Z= Elección  \n",
    "W = Ganador  \n",
    "MH = Apertura de puerta  \n",
    "\n",
    "\n",
    "En presencia de Monty Hall:\n",
    "\n",
    "$$\n",
    "\\mathbb{P}(W \\mid Z, MH) \\neq \\mathbb{P}(W \\mid MH)\n",
    "$$"
   ]
  },
  {
   "cell_type": "code",
   "execution_count": 4,
   "id": "892abf4c",
   "metadata": {},
   "outputs": [],
   "source": [
    "import pandas as pd"
   ]
  },
  {
   "cell_type": "code",
   "execution_count": 28,
   "id": "72a1ee4e",
   "metadata": {},
   "outputs": [],
   "source": [
    "data = [\n",
    "    ['A', 'A', 'B',  2, -1],\n",
    "    ['A', 'A', 'C',  2, -1],\n",
    "    ['A', 'B', 'C',  2,  1],\n",
    "    ['A', 'B', 'C',  2,  1],\n",
    "    ['A', 'C', 'B',  2,  1],\n",
    "    ['A', 'C', 'B',  2,  1],\n",
    "    ['B', 'A', 'C',  2,  1],\n",
    "    ['B', 'A', 'C',  2,  1],\n",
    "    ['B', 'B', 'A',  2, -1],\n",
    "    ['B', 'B', 'C',  2, -1],\n",
    "    ['B', 'C', 'A',  2,  1],\n",
    "    ['B', 'C', 'A',  2,  1],\n",
    "    ['C', 'A', 'B',  2,  1],\n",
    "    ['C', 'A', 'B',  2,  1],\n",
    "    ['C', 'B', 'A',  2,  1],\n",
    "    ['C', 'B', 'A',  2,  1],\n",
    "    ['C', 'C', 'A',  2, -1],\n",
    "    ['C', 'C', 'B',  2, -1],\n",
    "    ['A', 'A', 'B',  0,  1],\n",
    "    ['A', 'A', 'C',  0,  1],\n",
    "    ['A', 'B', 'C',  0, -1],\n",
    "    ['A', 'B', 'C',  0, -1],\n",
    "    ['A', 'C', 'B',  0, -1],\n",
    "    ['A', 'C', 'B',  0, -1],\n",
    "    ['B', 'A', 'C',  0, -1],\n",
    "    ['B', 'A', 'C',  0, -1],\n",
    "    ['B', 'B', 'A',  0,  1],\n",
    "    ['B', 'B', 'C',  0,  1],\n",
    "    ['B', 'C', 'A',  0, -1],\n",
    "    ['B', 'C', 'A',  0, -1],\n",
    "    ['C', 'A', 'B',  0, -1],\n",
    "    ['C', 'A', 'B',  0, -1],\n",
    "    ['C', 'B', 'A',  0, -1],\n",
    "    ['C', 'B', 'A',  0, -1],\n",
    "    ['C', 'C', 'A',  0,  1],\n",
    "    ['C', 'C', 'B',  0,  1],\n",
    "]\n",
    "\n",
    "df = pd.DataFrame(data, columns=['Z', 'W', 'MH', 'X', 'Y'])\n"
   ]
  },
  {
   "cell_type": "markdown",
   "id": "88ac9a8f",
   "metadata": {},
   "source": [
    "* Lo que deberíamos de constatar es que si la puerta inical seleccionada Z resulta ser igual a la ganadora W, lo cuál sucede 1/3 del tiempo, perdemos si cambiamos, pues ya estábamos ok. \n",
    "* EOC, Z <> W. Cambias nos hace ganar. Esto sucede 2/3 partes del tiempo, ya que es más fácil elegir una cabra que un auto, para después corregit.\n",
    "\n",
    "Task: Llena la tabla con todos los casos y computa la probabildad de ganar con estrategia X=0 (mantener) vs. X=2 (cambiar)."
   ]
  },
  {
   "cell_type": "code",
   "execution_count": 27,
   "id": "0ec5c2df",
   "metadata": {},
   "outputs": [],
   "source": [
    "def check_y(df):\n",
    "    \"\"\"Esta función se apoya en la observación de que si Z y W son iguales, uno no debería cambiar.\"\"\"\n",
    "    for idx, row in df.iterrows():\n",
    "        if (row['Z'] == row['W']) and (row['X'] == 2):\n",
    "            df.loc[idx, \"y_check\"] = -1\n",
    "        elif (row['Z'] == row['W']) and (row['X'] == 0):\n",
    "            df.loc[idx, \"y_check\"] = 1\n",
    "        elif (row['Z'] != row['W']) and (row['X'] == 2):\n",
    "            df.loc[idx, \"y_check\"] = 1\n",
    "        elif (row['Z'] != row['W']) and (row['X'] == 0):\n",
    "            df.loc[idx, \"y_check\"] = -1\n",
    "    return df\n"
   ]
  },
  {
   "cell_type": "code",
   "execution_count": 30,
   "id": "45015e07",
   "metadata": {},
   "outputs": [
    {
     "name": "stdout",
     "output_type": "stream",
     "text": [
      "Probabilidad ganar dado X=0 (mantener): 0.333\n",
      "Probabilidad ganar dado X=2 (cambiar): 0.667\n",
      "Probabilidad y_check ganar X=0: 0.333\n",
      "Probabilidad y_check ganar X=2: 0.667\n"
     ]
    }
   ],
   "source": [
    "df = check_y(df)  # Asegúrate que esta función asigna bien 'y_check'\n",
    "\n",
    "# Calcula esperanza de Y\n",
    "esperanza_y_x0 = df.loc[df['X'] == 0, 'Y'].mean()\n",
    "esperanza_y_x2 = df.loc[df['X'] == 2, 'Y'].mean()\n",
    "\n",
    "# Convierte esperanza a probabilidad de ganar (si Y es 1/-1)\n",
    "prob_ganar_x0 = (esperanza_y_x0 + 1) / 2\n",
    "prob_ganar_x2 = (esperanza_y_x2 + 1) / 2\n",
    "\n",
    "print(f\"Probabilidad ganar dado X=0 (mantener): {prob_ganar_x0:.3f}\")\n",
    "print(f\"Probabilidad ganar dado X=2 (cambiar): {prob_ganar_x2:.3f}\")\n",
    "\n",
    "# Igual para y_check si quieres comparar\n",
    "esperanza_ycheck_x0 = df.loc[df['X'] == 0, 'y_check'].mean()\n",
    "esperanza_ycheck_x2 = df.loc[df['X'] == 2, 'y_check'].mean()\n",
    "\n",
    "prob_ganar_ycheck_x0 = (esperanza_ycheck_x0 + 1) / 2\n",
    "prob_ganar_ycheck_x2 = (esperanza_ycheck_x2 + 1) / 2\n",
    "\n",
    "print(f\"Probabilidad y_check ganar X=0: {prob_ganar_ycheck_x0:.3f}\")\n",
    "print(f\"Probabilidad y_check ganar X=2: {prob_ganar_ycheck_x2:.3f}\")\n"
   ]
  },
  {
   "cell_type": "code",
   "execution_count": 29,
   "id": "42141a19",
   "metadata": {},
   "outputs": [
    {
     "name": "stdout",
     "output_type": "stream",
     "text": [
      "X  Y \n",
      "0  -1    0.666667\n",
      "    1    0.333333\n",
      "2   1    0.666667\n",
      "   -1    0.333333\n",
      "Name: proportion, dtype: float64\n"
     ]
    }
   ],
   "source": [
    "print(df.groupby('X')['Y'].value_counts(normalize=True))"
   ]
  },
  {
   "cell_type": "markdown",
   "id": "fd41550a",
   "metadata": {},
   "source": [
    "¿Entonces es lo mismo cambiar que no cambiar?\n",
    "No es lo mismo. Sí importa porque ...Falta multiplicar por la probabilidad de que"
   ]
  },
  {
   "cell_type": "markdown",
   "id": "29f95180",
   "metadata": {},
   "source": [
    "## Explicación de por qué\n",
    "\n",
    "$$\n",
    "\\text{prob\\_ganar\\_x0} = \\frac{\\mathbb{E}[Y \\mid X=0] + 1}{2}\n",
    "$$\n",
    "\n",
    "---\n",
    "\n",
    "### Contexto: codificación de la variable \\(Y\\)\n",
    "\n",
    "En tu caso, la variable \\(Y\\) está codificada como:\n",
    "\n",
    "- $Y = +1$ si **ganas**,\n",
    "- $Y = -1$ si **pierdes**.\n",
    "\n",
    "---\n",
    "\n",
    "### ¿Qué significa $\\mathbb{E}[Y \\mid X=x]$?\n",
    "\n",
    "La esperanza condicional es el valor promedio de \\(Y\\) dado que \\(X = x\\):\n",
    "\n",
    "$$\n",
    "\\mathbb{E}[Y \\mid X=x] = P(Y=1 \\mid X=x) \\cdot 1 + P(Y=-1 \\mid X=x) \\cdot (-1)\n",
    "$$\n",
    "\n",
    "Como $P(Y=1 \\mid X=x) + P(Y=-1 \\mid X=x) = 1$, podemos escribir:\n",
    "\n",
    "$$\n",
    "\\mathbb{E}[Y \\mid X=x] = P(Y=1 \\mid X=x) - P(Y=-1 \\mid X=x)\n",
    "$$\n",
    "\n",
    "---\n",
    "\n",
    "### Despejando la probabilidad de ganar\n",
    "\n",
    "Queremos encontrar $P(Y=1 \\mid X=x)$, que es la probabilidad de ganar dado $X=x$.\n",
    "\n",
    "De la ecuación anterior:\n",
    "\n",
    "$$\n",
    "\\mathbb{E}[Y \\mid X=x] = P(Y=1 \\mid X=x) - (1 - P(Y=1 \\mid X=x)) = 2 \\cdot P(Y=1 \\mid X=x) - 1\n",
    "$$\n",
    "\n",
    "Por lo tanto:\n",
    "\n",
    "$$\n",
    "P(Y=1 \\mid X=x) = \\frac{\\mathbb{E}[Y \\mid X=x] + 1}{2}\n",
    "$$\n",
    "\n",
    "---\n",
    "\n",
    "### Intuición\n",
    "\n",
    "- Si \\($\\mathbb{E}[Y \\mid X=x] = 1$\\), entonces ganas siempre, y \\(P(Y=1 \\mid X=x) = 1\\).\n",
    "- Si \\($\\mathbb{E}[Y \\mid X=x] = -1$\\), entonces pierdes siempre, y \\(P(Y=1 \\mid X=x) = 0\\).\n",
    "- Si \\($\\mathbb{E}[Y \\mid X=x] = 0$\\), ganas y pierdes con igual probabilidad, \\(P(Y=1 \\mid X=x) = 0.5\\).\n",
    "\n",
    "---\n",
    "\n",
    "### Resumen\n",
    "\n",
    "| $\\mathbb{E}[Y \\mid X=x]$| $P(Y=1 \\mid X=x)$ | Interpretación                |\n",
    "|----------------------------|---------------------|------------------------------|\n",
    "| 1                          | 1                   | Ganas siempre                |\n",
    "| 0                          | 0.5                 | Ganas la mitad de las veces  |\n",
    "| -1                         | 0                   | Nunca ganas                  |\n",
    "\n",
    "---\n"
   ]
  }
 ],
 "metadata": {
  "kernelspec": {
   "display_name": "env_causal",
   "language": "python",
   "name": "python3"
  },
  "language_info": {
   "codemirror_mode": {
    "name": "ipython",
    "version": 3
   },
   "file_extension": ".py",
   "mimetype": "text/x-python",
   "name": "python",
   "nbconvert_exporter": "python",
   "pygments_lexer": "ipython3",
   "version": "3.10.12"
  }
 },
 "nbformat": 4,
 "nbformat_minor": 5
}
