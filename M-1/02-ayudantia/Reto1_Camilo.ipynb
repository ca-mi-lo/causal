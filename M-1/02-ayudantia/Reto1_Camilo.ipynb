{
 "cells": [
  {
   "cell_type": "markdown",
   "id": "cad57bf0",
   "metadata": {},
   "source": [
    "## Reto: Semana 2\n",
    "En diciembre de 2015, la Candidatura d'Unitat Popular (CUP) un partido político independentista de izquierda que actúa principalmente en Cataluña-, celebró una votación interna sobre si apoyar o oponerse a la investidura de Artur Mas como presidente de la Generalitat. El resultado fue un empate con 1 515 votos a favor y 1 515 en contra, generando gran debate por la naturaleza del resultado.\n",
    "\n"
   ]
  },
  {
   "cell_type": "markdown",
   "id": "7ca201f3",
   "metadata": {},
   "source": [
    "Tomando en cuenta esta información:  \n",
    "**a) Calcula cuál es la probabilidad de este empate bajo un enfoque frecuentista:**  \n",
    "    * Asumiendo que la probabilidad de votar a favor de Arturo Mas es de 0.5   \n",
    "    * La decisión de voto es independiente entre los votantes.  \n",
    "**b) Calcula la probabilidad de empate bajo un enfoque Bayesiano**  \n",
    "    * Asumiendo que no tenemos conocimiento previo del valor de p = probabilidad de votar a favor"
   ]
  },
  {
   "cell_type": "markdown",
   "id": "ce41440b",
   "metadata": {},
   "source": []
  },
  {
   "cell_type": "code",
   "execution_count": 9,
   "id": "15eda3fe",
   "metadata": {},
   "outputs": [],
   "source": [
    "from scipy.special import betaln, comb\n",
    "import math\n",
    "from scipy.special import gammaln"
   ]
  },
  {
   "cell_type": "code",
   "execution_count": 11,
   "id": "249c6ce2",
   "metadata": {},
   "outputs": [
    {
     "name": "stdout",
     "output_type": "stream",
     "text": [
      "La probabilidad de un empate exacto es: 0.014494 (~1.4494%)\n",
      "Lo cual no es taaaan raro, dado que la binomial alcanza su máximo en k=n/2, y la probabilidad de empate es la más alta en ese punto.\n"
     ]
    }
   ],
   "source": [
    "\n",
    "# Parámetros\n",
    "n = 3030      # número total de votantes\n",
    "k = 1515      # número de votos a favor (empate)\n",
    "p = 0.5       # probabilidad de votar a favor\n",
    "\n",
    "# Calcular la probabilidad exacta de empate\n",
    "prob_empate = binom.pmf(k, n, p)\n",
    "\n",
    "print(f\"La probabilidad de un empate exacto es: {prob_empate:.6f} (~{prob_empate*100:.4f}%)\")\n",
    "print(\"Lo cual no es taaaan raro, dado que la binomial alcanza su máximo en k=n/2, y la probabilidad de empate es la más alta en ese punto.\")\n"
   ]
  },
  {
   "cell_type": "code",
   "execution_count": null,
   "id": "342ebcba",
   "metadata": {},
   "outputs": [
    {
     "ename": "OverflowError",
     "evalue": "int too large to convert to float",
     "output_type": "error",
     "traceback": [
      "\u001b[0;31m---------------------------------------------------------------------------\u001b[0m",
      "\u001b[0;31mOverflowError\u001b[0m                             Traceback (most recent call last)",
      "Cell \u001b[0;32mIn[6], line 13\u001b[0m\n\u001b[1;32m     10\u001b[0m beta_val \u001b[38;5;241m=\u001b[39m beta(k \u001b[38;5;241m+\u001b[39m \u001b[38;5;241m1\u001b[39m, n \u001b[38;5;241m-\u001b[39m k \u001b[38;5;241m+\u001b[39m \u001b[38;5;241m1\u001b[39m)\n\u001b[1;32m     12\u001b[0m \u001b[38;5;66;03m# Probabilidad bayesiana (beta-binomial con Beta(1,1) previa)\u001b[39;00m\n\u001b[0;32m---> 13\u001b[0m prob_bayesiana \u001b[38;5;241m=\u001b[39m \u001b[43mcoef_binomial\u001b[49m\u001b[43m \u001b[49m\u001b[38;5;241;43m*\u001b[39;49m\u001b[43m \u001b[49m\u001b[43mbeta_val\u001b[49m\n\u001b[1;32m     15\u001b[0m \u001b[38;5;28mprint\u001b[39m(\u001b[38;5;124mf\u001b[39m\u001b[38;5;124m\"\u001b[39m\u001b[38;5;124mProbabilidad de empate bajo enfoque bayesiano: \u001b[39m\u001b[38;5;132;01m{\u001b[39;00mprob_bayesiana\u001b[38;5;132;01m:\u001b[39;00m\u001b[38;5;124m.8f\u001b[39m\u001b[38;5;132;01m}\u001b[39;00m\u001b[38;5;124m (~\u001b[39m\u001b[38;5;132;01m{\u001b[39;00mprob_bayesiana\u001b[38;5;241m*\u001b[39m\u001b[38;5;241m100\u001b[39m\u001b[38;5;132;01m:\u001b[39;00m\u001b[38;5;124m.6f\u001b[39m\u001b[38;5;132;01m}\u001b[39;00m\u001b[38;5;124m%)\u001b[39m\u001b[38;5;124m\"\u001b[39m)\n",
      "\u001b[0;31mOverflowError\u001b[0m: int too large to convert to float"
     ]
    }
   ],
   "source": [
    "# Esta versión genera \n",
    "# OverflowError: int too large to convert to float\n",
    "n = 3030\n",
    "k = 1515\n",
    "\n",
    "# Calcular coeficiente binomial\n",
    "coef_binomial = comb(n, k, exact=True)\n",
    "\n",
    "# Calcular la función beta B(k+1, n-k+1)\n",
    "beta_val = beta(k + 1, n - k + 1)\n",
    "\n",
    "# Probabilidad bayesiana (beta-binomial con Beta(1,1) previa)\n",
    "prob_bayesiana = coef_binomial * beta_val\n",
    "\n",
    "print(f\"Probabilidad de empate bajo enfoque bayesiano: {prob_bayesiana:.8f} (~{prob_bayesiana*100:.6f}%)\")\n"
   ]
  },
  {
   "cell_type": "code",
   "execution_count": 10,
   "id": "6dcd3d82",
   "metadata": {},
   "outputs": [
    {
     "name": "stdout",
     "output_type": "stream",
     "text": [
      "Probabilidad de empate bajo enfoque bayesiano: 3.29924117e-04 (~0.03299241%)\n"
     ]
    }
   ],
   "source": [
    "n = 3030\n",
    "k = 1515\n",
    "\n",
    "# Calcular logaritmo del coeficiente binomial usando gammaln para precisión numérica\n",
    "# log comb(n,k) = gammaln(n+1) - gammaln(k+1) - gammaln(n-k+1)\n",
    "\n",
    "log_coef_binomial = gammaln(n + 1) - gammaln(k + 1) - gammaln(n - k + 1)\n",
    "\n",
    "# Calcular logaritmo de la función beta\n",
    "log_beta_val = betaln(k + 1, n - k + 1)\n",
    "\n",
    "# Sumar logaritmos\n",
    "log_prob_bayesiana = log_coef_binomial + log_beta_val\n",
    "\n",
    "# Exponenciar para obtener la probabilidad\n",
    "prob_bayesiana = math.exp(log_prob_bayesiana)\n",
    "\n",
    "print(f\"Probabilidad de empate bajo enfoque bayesiano: {prob_bayesiana:.8e} (~{prob_bayesiana*100:.8f}%)\")\n"
   ]
  },
  {
   "cell_type": "markdown",
   "id": "d221963e",
   "metadata": {},
   "source": [
    "## Enfoque Bayesiano\n",
    "\n",
    "### Modelo:\n",
    "\n",
    "Los votos a favor \\( X \\) siguen una distribución binomial condicional a \\( p \\):\n",
    "\n",
    "$$\n",
    "X \\mid p \\sim \\text{Binomial}(n=3030, p)\n",
    "$$\n",
    "\n",
    "La probabilidad \\( p \\) tiene una distribución previa uniforme:\n",
    "\n",
    "$$\n",
    "p \\sim \\text{Beta}(\\alpha=1, \\beta=1)\n",
    "$$\n",
    "\n",
    "### Posterior predictiva:\n",
    "\n",
    "La probabilidad de observar un empate exacto \\( X = 1515 \\) sin conocer \\( p \\) se calcula integrando sobre todos los posibles valores de \\( p \\):\n",
    "\n",
    "$$\n",
    "P(X=1515) = \\int_0^1 P(X=1515 \\mid p) f(p) \\, dp = \\int_0^1 \\binom{3030}{1515} p^{1515} (1-p)^{1515} \\, dp\n",
    "$$\n",
    "\n",
    "Dado que $ p \\sim \\text{Beta}(1,1) $, la integral es la función beta:\n",
    "\n",
    "$$\n",
    "P(X=1515) = \\binom{3030}{1515} \\frac{B(1515+1, 1515+1)}{B(1,1)} = \\binom{3030}{1515} B(1516, 1516)\n",
    "$$\n",
    "\n",
    "donde $ B(a,b) $ es la función beta.\n",
    "\n",
    "### Resultado:\n",
    "\n",
    "Esta probabilidad bajo el modelo beta-binomial es aproximadamente igual a:\n",
    "\n",
    "$$\n",
    "P(X=1515) \\approx \\frac{1}{3031} \\approx 0.00033 = 0.033\\%\n",
    "$$\n",
    "\n",
    "Esto representa la probabilidad de empate considerando que no sabemos nada sobre $ p $ y que todos los valores de $ p $ son igualmente posibles a priori.\n",
    "\n",
    "### Interpretación:\n",
    "\n",
    "- Bajo este enfoque bayesiano con una distribución previa uniforme para $ p $, la probabilidad de empate es mucho menor que bajo el modelo frecuentista con $ p = 0.5 $ fijo.\n",
    "- Sin embargo, si se incorpora información previa o se usa una distribución beta más informativa, la probabilidad puede acercarse al valor frecuentista (~1.44%).\n",
    "\n",
    "---\n"
   ]
  },
  {
   "cell_type": "code",
   "execution_count": null,
   "id": "29152b0a",
   "metadata": {},
   "outputs": [],
   "source": []
  }
 ],
 "metadata": {
  "kernelspec": {
   "display_name": "env_causal",
   "language": "python",
   "name": "python3"
  },
  "language_info": {
   "codemirror_mode": {
    "name": "ipython",
    "version": 3
   },
   "file_extension": ".py",
   "mimetype": "text/x-python",
   "name": "python",
   "nbconvert_exporter": "python",
   "pygments_lexer": "ipython3",
   "version": "3.10.12"
  }
 },
 "nbformat": 4,
 "nbformat_minor": 5
}
