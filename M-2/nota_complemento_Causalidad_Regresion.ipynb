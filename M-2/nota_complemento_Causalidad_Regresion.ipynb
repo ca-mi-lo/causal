{
 "cells": [
  {
   "cell_type": "markdown",
   "id": "d74a45a7-e603-41ba-8b67-51b9c261f64a",
   "metadata": {},
   "source": [
    "| # | Supuesto                                                                                     | Intuición / qué implica                                                                                                                                                                                                                            | Escritura típica                             |                    |\n",
    "| - | -------------------------------------------------------------------------------------------- | -------------------------------------------------------------------------------------------------------------------------------------------------------------------------------------------------------------------------------------------------- | -------------------------------------------- | ------------------ |\n",
    "| 1 | **Consistencia** (también llamado *Stable Unit Treatment Value Assumption – SUTVA, parte 1*) | El resultado que realmente observamos para la persona $i$ coincide con su potencial correspondiente según el tratamiento recibido. <br>Si $D_i=1$, entonces $Y_i = Y_i(1)$; si $D_i=0$, entonces $Y_i = Y_i(0)$.                                   | $Y_i = Y_i(D_i)$                             |                    |\n",
    "| 2 | **No interferencia** (*SUTVA, parte 2*)                                                      | Lo que le pase a una persona no afecta los resultados potenciales de otra, y existe **una sola versión** del tratamiento “programa de capacitación”.                                                                                               | $Y_i(d)$ indep. de $D_j$ para $j\\ne i$       |                    |\n",
    "| 3 | **Positividad** (*overlap*)                                                                  | Para cualquier combinación de educación y experiencia observada, la probabilidad de estar tratado **y** no tratado es positiva: <br>nadie está “forzosamente” en un solo grupo.                                                                    | $0 < P(D=1\\mid X_1, X_2) < 1$                |                    |\n",
    "| 4 | **Intercambiabilidad condicional** (*ignorabilidad, ausencia de confusión no medida*)        | Una vez que controlamos por $X_1$ y $X_2$, la asignación al tratamiento es “tan buena como aleatoria”. <br>Los potenciales $Y_i(1),Y_i(0)$ ya no dependen de $D_i$.                                                                                | $\\{\\, Y_i(1),\\; Y_i(0) \\,\\} \\;\\perp\\!\\!\\!\\perp\\; D_i \\;\\big|\\; X_{1i},\\, X_{2i}$ |\n",
    "| 5 | **Especificación (lineal) correcta**                                                         | Para que el estimador OLS sea insesgado necesitamos que la forma funcional incluya todas las variables y términos (lineales, interacciones, no linealidades) que, de no estar, generarían sesgo (por ejemplo omitimos $X_1^2$ si fuera relevante). | $E[\\varepsilon_i\\mid D_i,X_{1i},X_{2i}] = 0$ |                    |\n"
   ]
  },
  {
   "cell_type": "markdown",
   "id": "6c1e8b91-5850-49dd-96fe-fe3ab72e270b",
   "metadata": {},
   "source": [
    "**Confounder**: Cualquier variable previa al tratamiento que genera asociación espuria porq afecta simultáneamente el tratamiento y el resultado. Identificar y ajustar  todos los confusores observados es necesario para que el estimador refleje el verdadero efecto causal del programa de capacitación."
   ]
  },
  {
   "cell_type": "markdown",
   "id": "96f087b4-81a2-4355-906b-e10b749bd886",
   "metadata": {},
   "source": [
    "La ignorabilidad **sin ajustar** se viola porque el tratamiento $D$ se asigna usando la regla logística\n",
    "\n",
    "$$\n",
    "\\Pr(D=1\\mid X_1,X_2)=\\frac{1}{1+\\exp[-(-4+0.2X_1+0.15X_2)]},\n",
    "$$\n",
    "\n",
    "y esas mismas variables $X_1$ (educación) y $X_2$ (experiencia) influyen directamente en el salario $Y$.\n",
    "\n",
    "Resultado:\n",
    "\n",
    "$$\n",
    "D \\;\\leftarrow\\; (X_1,X_2) \\;\\rightarrow\\; Y\n",
    "$$\n",
    "\n",
    "Eso crea asociación espuria entre $D$ y los potenciales $Y(1),Y(0)$. Por tanto:\n",
    "\n",
    "$$\n",
    "\\{Y(1),Y(0)\\}\\;\\not\\!\\perp\\!\\!\\!\\perp\\;D\n",
    "$$\n",
    "\n",
    "i.e:, **el tratamiento no es aleatorio respecto a los resultados potenciales**; depende de confusores que también afectan $Y$. Solo recuperamos ignorabilidad **condicional** al controlar por $X_1$ y $X_2$.\n"
   ]
  },
  {
   "cell_type": "code",
   "execution_count": null,
   "id": "3858d0dc-bf73-40be-9d3d-8d415d49df49",
   "metadata": {},
   "outputs": [],
   "source": []
  },
  {
   "cell_type": "markdown",
   "id": "9a810347-f550-42cc-87f8-943103d8b378",
   "metadata": {},
   "source": [
    "En nuestro diseño la **positividad** se garantiza de dos maneras:\n",
    "\n",
    "1. **Propiedad de la función logística**\n",
    "   Para cualquier valor finito del predictor lineal $\\eta = -4 + 0.2X_1 + 0.15X_2$, la función\n",
    "\n",
    "   $$\n",
    "   g(\\eta)=\\frac{1}{1+e^{-\\eta}}\n",
    "   $$\n",
    "\n",
    "   devuelve un número **estrictamente** entre 0 y 1.\n",
    "   Por lo tanto, mientras $\\eta$ no tienda a $\\pm\\infty$, siempre habrá una probabilidad positiva de recibir y de no recibir el tratamiento.\n",
    "\n",
    "2. **Rangos acotados de $X_1$ y $X_2$ en la simulación**\n",
    "\n",
    "   * Educación: $X_1 \\sim \\text{Uniform}(8,16)$ → $8 \\le X_1 \\le 16$.\n",
    "   * Experiencia: $X_2 \\sim \\text{Uniform}(0,10)$ → $0 \\le X_2 \\le 10$.\n",
    "\n",
    "   Con esos límites, el predictor lineal oscila entre\n",
    "\n",
    "   $$\n",
    "   \\eta_{\\min} = -4 + 0.2\\,(8) + 0.15\\,(0) = -2.4\n",
    "   \\quad\\text{y}\\quad\n",
    "   \\eta_{\\max} = -4 + 0.2\\,(16) + 0.15\\,(10) = 0.7.\n",
    "   $$\n",
    "\n",
    "   Las probabilidades correspondientes son:\n",
    "\n",
    "   $$\n",
    "   g(-2.4) \\approx 0.083\n",
    "   \\quad\\text{y}\\quad\n",
    "   g(0.7) \\approx 0.668.\n",
    "   $$\n",
    "\n",
    "   Así, para **cada** combinación observable de $(X_1,X_2)$ se cumple\n",
    "\n",
    "   $$\n",
    "   0.083 \\;<\\; \\Pr(D=1\\mid X_1,X_2) \\;<\\; 0.668,\n",
    "   $$\n",
    "\n",
    "   y, por simetría,\n",
    "   $0.332 < \\Pr(D=0\\mid X_1,X_2) < 0.917$.\n",
    "\n",
    "Esto implica ningún estrato definido por educación y experiencia queda “vacío” de tratados o controles: existe solapamiento y se satisface el supuesto de positividad.\n"
   ]
  },
  {
   "cell_type": "code",
   "execution_count": null,
   "id": "6dbca630-aa80-404c-b1b0-06d5a65efb3a",
   "metadata": {},
   "outputs": [],
   "source": []
  },
  {
   "cell_type": "markdown",
   "id": "c5686c4d-cbb9-49cb-a48e-c324bf206bb0",
   "metadata": {},
   "source": [
    "El supuesto de **positividad** (overlap) es necesario porque garantiza que, para cada combinación de confusores observados, existen tanto individuos tratados como no tratados con probabilidad positiva. Sin esa superposición:\n",
    "\n",
    "1. **No habría grupo de comparación válido**: en estratos donde solo hay tratados (o solo controles) no podemos contrastar qué habría pasado “de otro modo”.\n",
    "2. **Los métodos de ajuste fallan**: pesos de IPTW se vuelven infinitos o extremadamente grandes, y los modelos deben extrapolar fuera de los datos, introduciendo gran varianza y posible sesgo.\n",
    "3. **El ATE deja de ser identificable**: la esperanza $\\mathbb{E}[Y(1)-Y(0)]$ no se puede estimar empíricamente en regiones sin datos comparables.\n",
    "\n",
    "brief: la positividad asegura que exista información observacional suficiente para comparar “iguales con iguales” y, por tanto, estimar el efecto causal sin extrapolación indebida.\n"
   ]
  },
  {
   "cell_type": "code",
   "execution_count": null,
   "id": "b3a8057b-ed33-4202-a863-4a56f99f92b9",
   "metadata": {},
   "outputs": [],
   "source": []
  }
 ],
 "metadata": {
  "kernelspec": {
   "display_name": "Python 3 (ipykernel)",
   "language": "python",
   "name": "python3"
  },
  "language_info": {
   "codemirror_mode": {
    "name": "ipython",
    "version": 3
   },
   "file_extension": ".py",
   "mimetype": "text/x-python",
   "name": "python",
   "nbconvert_exporter": "python",
   "pygments_lexer": "ipython3",
   "version": "3.11.9"
  }
 },
 "nbformat": 4,
 "nbformat_minor": 5
}
