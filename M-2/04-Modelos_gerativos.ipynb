{
 "cells": [
  {
   "cell_type": "markdown",
   "id": "71d7591a",
   "metadata": {},
   "source": [
    "## 04 - Primeros modelos generativos controlados"
   ]
  },
  {
   "cell_type": "markdown",
   "id": "bc6f4e90",
   "metadata": {},
   "source": [
    "En el capítulo anterior propusimos un método conocido comúnmente como **A/B testing** para garantizar que las estadísticas causales se podrían deducir utilizando únicamente los datos observados.  \n",
    "\n",
    "Es muy importante insistir en que para lograr obtener una muestra con un A/B testing es necesario rehacer el muestreo $(X, Y)$, por lo cual estamos hablando más bien del diseño de nuestro experimento.\n",
    "\n",
    "En esta sección hablaremos de algunos ejemplos de modelos matemáticos que incluyen funciones deterministas y distribuciones, los cuales también nos permitirán deducir cantidades causales utilizando únicamente este modelo.  \n",
    "\n",
    "Estos modelos serán la base de los modelos causales que presentaremos en el siguiente módulo del curso.\n",
    "\n",
    "En este capítulo nuevamente utilizaremos la misma notación para las variables contrafactuales.\n",
    "\n",
    "---\n",
    "\n",
    "#### Modelo I\n",
    "\n",
    "Supongamos que tenemos dos variables aleatorias de Bernoulli e independientes:  \n",
    "$$\n",
    "X \\perp Y\n",
    "$$\n",
    "\n",
    "A continuación mostramos una simulación casi perfecta de las hipótesis anteriores."
   ]
  },
  {
   "cell_type": "markdown",
   "id": "d5be2a02",
   "metadata": {},
   "source": [
    "Consideremos la siguiente tabla con los datos observados:\n",
    "\n",
    "| $X$ | $Y$  |\n",
    "|:----:|:----:|\n",
    "|  0   |  -1  |\n",
    "|  0   |  1   |\n",
    "|  2   |  -1  |\n",
    "|  2   |  1   |\n",
    "\n",
    "Con las hipótesis del problema de las promociones y los clientes churn del capítulo anterior, nos podríamos hacer la siguiente pregunta contrafactual:  \n",
    "\n",
    "Supongamos que un cliente ha recibido la promoción pero a pesar de ello ha decidido abandonar su suscripción.  \n",
    "¿Qué hubiera pasado si ese cliente no hubiera recibido la promoción?  \n",
    "En particular:  \n",
    " \n",
    "$$\n",
    "P\\bigl(Y^*(0) = +1 \\mid X = 2, Y = -1\\bigr)\n",
    "$$\n",
    "\n",
    "Utilizando el modelo generativo anterior es bastante sencillo responder a esta pregunta siguiendo el siguiente razonamiento:\n",
    "\n",
    "1. Los registros en los que $X = 2, Y = -1$ son una cuarta parte de la base de datos, están en el tercer renglón de nuestra base de datos.\n",
    "\n",
    "2. Si modificamos la variable $X$ para que ahora valga 0, ya que las variables son independientes ($X \\perp Y$), nada cambiaría en la variable $Y$, lo cual significa que la probabilidad que queremos calcular es igual a 0.\n"
   ]
  },
  {
   "cell_type": "markdown",
   "id": "fb8358b3",
   "metadata": {},
   "source": []
  },
  {
   "cell_type": "markdown",
   "id": "b2cba4bb",
   "metadata": {},
   "source": [
    "#### Modelo II\n",
    "\n",
    "Para este segundo modelo vamos a suponer que tenemos dos variables aleatorias de Bernoulli e independientes:  \n",
    "$$\n",
    "X \\perp Z\n",
    "$$\n",
    "\n",
    "En el proceso generativo también supondremos que existe una tercera variable $Y$ que cumple la siguiente relación funcional, donde la función \"sign\" envía a los números positivos al $+1$ y a los números negativos al $-1$:\n",
    "\n",
    "$$\n",
    "Y = \\operatorname{sign}\\bigl(X \\cdot Z + (1 - X)(1 - Z)\\bigr)\n",
    "$$\n",
    "\n",
    "Al simular este modelo generativo obtenemos la siguiente base de datos:\n",
    "\n",
    "| $X$ | $Z$ | $Y$  |\n",
    "|:----:|:----:|:----:|\n",
    "|  0   |  0   |  1   |\n",
    "|  0   |  2   | -1   |\n",
    "|  2   |  0   | -1   |\n",
    "|  2   |  2   |  1   |\n",
    "|  0   |  0   |  1   |\n",
    "|  0   |  2   | -1   |\n",
    "|  2   |  0   | -1   |\n",
    "|  2   |  2   |  1   |\n",
    "\n",
    "Es interesante notar que en ambos modelos las variables observadas $(X, Y)$ son idénticas, lo cual significa que esto es una tarea complicada para el científico de datos.\n",
    "\n",
    "Nuevamente nos gustaría responder la siguiente pregunta contrafactual (la misma que en el modelo anterior):\n",
    "\n",
    "Supongamos que un cliente ha recibido la promoción pero a pesar de ello ha decidido abandonar su suscripción.  \n",
    "¿Qué hubiera pasado si ese cliente no hubiera recibido la promoción?  \n",
    "\n",
    "¿Si ese cliente no hubiera recibido la promoción nos habría abandonado?\n",
    "La siguiente cantidad nos podría ayudar a contestar esa pregunta:\n",
    "\n",
    "$$\n",
    "P\\bigl(Y^*(0) = +1 \\mid X = 2, Y = -1\\bigr)\n",
    "$$\n",
    "\n",
    "---\n"
   ]
  },
  {
   "cell_type": "markdown",
   "id": "52bca29a",
   "metadata": {},
   "source": [
    "Utilizando el modelo generativo anterior también podemos calcular esta cantidad siguiendo el siguiente razonamiento:\n",
    "\n",
    "1. Los registros en los que $X = 2, Y = -1$ son una cuarta parte de la base de datos, están en el tercer renglón y en el séptimo de la base de datos.\n",
    "\n",
    "2. La observación importante es que, de acuerdo a este modelo, aquellos registros que abandonaron y sí recibieron la promoción son exactamente aquellos para los que la variable $Z = 0$.\n",
    "\n",
    "3. Ahora supongamos que intervenimos la variable $X$ cambiándola por un $0$, gracias a la observación anterior la muestra que ahora nos interesa son aquellos registros donde $X = 0, Z = 0$ y en este caso la variable $Y$ siempre será igual a $+1$. Si lo desean verificar, son el primer y quinto registro en la base de datos.\n",
    "\n",
    "4. Por lo anterior, en este segundo modelo podemos deducir que\n",
    "\n",
    "$$\n",
    "P\\bigl(Y^*(0) = +1 \\mid X = 2, Y = -1\\bigr) = 1\n",
    "$$\n",
    "\n",
    "precisamente lo contrario que en el Modelo I."
   ]
  },
  {
   "cell_type": "markdown",
   "id": "d2bba467",
   "metadata": {},
   "source": [
    "### Knowleadge Checkpoint "
   ]
  },
  {
   "cell_type": "markdown",
   "id": "c73a62e0",
   "metadata": {},
   "source": [
    "¿En cuál problema considera usted que se pueden utilizar los métodos de esta semana? Por favor describa el problema y los datos de manera detallada sin revelar información confidencial. "
   ]
  },
  {
   "cell_type": "markdown",
   "id": "4a5d9278",
   "metadata": {},
   "source": [
    "En la semana vimos ejemplos de modelos binarios tanto para X y para Y, otro ejemplo puede ser:\n",
    "El uso de GPT de forma regular (sí / no) para el aprendizaje vs. examen de validación (aprobatorio, no-aprobatorio)"
   ]
  },
  {
   "cell_type": "markdown",
   "id": "3ea10651",
   "metadata": {},
   "source": [
    "En el curso se introdujeron las variables contrafacturales Y*(0) e Y*(2). ¿Si las variables objetivo tuvieran 4 clases y las variables explicativas tuvieran 3 clases distintas, ¿cuáltas variables confrafactuales habrían?"
   ]
  },
  {
   "cell_type": "markdown",
   "id": "caa0de77",
   "metadata": {},
   "source": [
    "Vamos a pensar en: \n",
    "$$P\\bigl(Y^*(0) = +1 \\mid X = 2, Y = -1\\bigr) = 1 $$\n",
    "\n",
    "Sabemos que para X=2, Y=-1, Z siempre es 0.\n",
    "\n",
    "| $X$ | $Z$ | $Y$  |\n",
    "|:----:|:----:|:----:|\n",
    "|  2   |  0   | -1   |\n",
    "|  2   |  0   | -1   |\n",
    "\n",
    "\n",
    "------\n",
    "Entonces buscamos $P\\bigl(Y^*(0) = +1 \\mid Z=0 \\bigr) $, lo que sabemos que Y siempre = 1, en este caso.\n",
    "\n",
    "\n",
    "| $X$ | $Z$ | $Y$  |\n",
    "|:----:|:----:|:----:|\n",
    "|  0   |  0   |  1   |\n",
    "|  0   |  0   |  1   |\n"
   ]
  },
  {
   "cell_type": "markdown",
   "id": "120d49b0",
   "metadata": {},
   "source": []
  }
 ],
 "metadata": {
  "kernelspec": {
   "display_name": "env_causal",
   "language": "python",
   "name": "python3"
  },
  "language_info": {
   "codemirror_mode": {
    "name": "ipython",
    "version": 3
   },
   "file_extension": ".py",
   "mimetype": "text/x-python",
   "name": "python",
   "nbconvert_exporter": "python",
   "pygments_lexer": "ipython3",
   "version": "3.10.12"
  }
 },
 "nbformat": 4,
 "nbformat_minor": 5
}
