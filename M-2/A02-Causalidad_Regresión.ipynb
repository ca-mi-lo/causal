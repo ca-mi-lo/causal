{
 "cells": [
  {
   "cell_type": "code",
   "execution_count": null,
   "id": "3ac94e6d-fed0-4420-800f-d7cf3c4a13d7",
   "metadata": {
    "scrolled": true
   },
   "outputs": [
    {
     "name": "stdout",
     "output_type": "stream",
     "text": [
      "Requirement already satisfied: numpy in /root/causal/env_causal/lib/python3.10/site-packages (2.2.6)\n",
      "Requirement already satisfied: pandas in /root/causal/env_causal/lib/python3.10/site-packages (2.3.0)\n",
      "Collecting statsmodels\n",
      "  Downloading statsmodels-0.14.4-cp310-cp310-manylinux_2_17_x86_64.manylinux2014_x86_64.whl (10.8 MB)\n",
      "\u001b[2K     \u001b[90m━━━━━━━━━━━━━━━━━━━━━━━━━━━━━━━━━━━━━━━━\u001b[0m \u001b[32m10.8/10.8 MB\u001b[0m \u001b[31m13.5 MB/s\u001b[0m eta \u001b[36m0:00:00\u001b[0m00:01\u001b[0m00:01\u001b[0m\n",
      "\u001b[?25hRequirement already satisfied: tzdata>=2022.7 in /root/causal/env_causal/lib/python3.10/site-packages (from pandas) (2025.2)\n",
      "Requirement already satisfied: pytz>=2020.1 in /root/causal/env_causal/lib/python3.10/site-packages (from pandas) (2025.2)\n",
      "Requirement already satisfied: python-dateutil>=2.8.2 in /root/causal/env_causal/lib/python3.10/site-packages (from pandas) (2.9.0.post0)\n",
      "Requirement already satisfied: packaging>=21.3 in /root/causal/env_causal/lib/python3.10/site-packages (from statsmodels) (25.0)\n",
      "Requirement already satisfied: scipy!=1.9.2,>=1.8 in /root/causal/env_causal/lib/python3.10/site-packages (from statsmodels) (1.15.3)\n",
      "Collecting patsy>=0.5.6\n",
      "  Downloading patsy-1.0.1-py2.py3-none-any.whl (232 kB)\n",
      "\u001b[2K     \u001b[90m━━━━━━━━━━━━━━━━━━━━━━━━━━━━━━━━━━━━━━\u001b[0m \u001b[32m232.9/232.9 kB\u001b[0m \u001b[31m10.9 MB/s\u001b[0m eta \u001b[36m0:00:00\u001b[0m\n",
      "\u001b[?25hRequirement already satisfied: six>=1.5 in /root/causal/env_causal/lib/python3.10/site-packages (from python-dateutil>=2.8.2->pandas) (1.17.0)\n",
      "Installing collected packages: patsy, statsmodels\n",
      "Successfully installed patsy-1.0.1 statsmodels-0.14.4\n",
      "\n",
      "\u001b[1m[\u001b[0m\u001b[34;49mnotice\u001b[0m\u001b[1;39;49m]\u001b[0m\u001b[39;49m A new release of pip is available: \u001b[0m\u001b[31;49m23.0.1\u001b[0m\u001b[39;49m -> \u001b[0m\u001b[32;49m25.1.1\u001b[0m\n",
      "\u001b[1m[\u001b[0m\u001b[34;49mnotice\u001b[0m\u001b[1;39;49m]\u001b[0m\u001b[39;49m To update, run: \u001b[0m\u001b[32;49mpip install --upgrade pip\u001b[0m\n"
     ]
    }
   ],
   "source": [
    "#!pip install numpy pandas statsmodels"
   ]
  },
  {
   "cell_type": "code",
   "execution_count": 1,
   "id": "578b9735-c9b2-436e-9e53-510416e40410",
   "metadata": {},
   "outputs": [],
   "source": [
    "import numpy as np\n",
    "import pandas as pd\n",
    "import statsmodels.api as sm\n",
    "import matplotlib.pyplot as plt\n",
    "import seaborn as sns\n",
    "from sklearn.linear_model import LogisticRegression"
   ]
  },
  {
   "cell_type": "markdown",
   "id": "8b0ca236-4e25-466c-a200-01c5a21d2319",
   "metadata": {},
   "source": [
    "#### 1.2 Simulamos X1 , X2 y Asignación al Tratamiento\n",
    "En la práctica, las personas pueden apuntarse o ser seleccionadas para el programa de forma tal que la asignación podría estar correlacionada con su educación y/o experiencia. Por ejemplo, podemos asumir que la **probabilidad de recibir tratamiento** $P(D=1)$ es mayor para aquellos que tienen mayor educación o experiencia:\n",
    "\n",
    "$$\n",
    "P(D=1|X_1,X_2) = logistic(-4 + 0.2X_1 + 0.15X_2)\n",
    "$$\n",
    "\n",
    "o equivalentemente:\n",
    "\n",
    "$$\n",
    "P(D=1) = \\frac{1}{1+\\exp[-(-4 + 0.2X_1 + 0.15X_2)]}\n",
    "$$"
   ]
  },
  {
   "cell_type": "markdown",
   "id": "7eb87961-20f4-4f07-95b6-4d9eca8da2d8",
   "metadata": {},
   "source": [
    "#### 1.3 Generamos el Outcome ($Y$) mediante el siguiente proceso:\n",
    "\n",
    "$$\n",
    "Y \n",
    "= \\beta_0 \n",
    "+ \\tau \\, D \n",
    "+ \\beta_1 \\, X_1 \n",
    "+ \\beta_2 \\, X_2 \n",
    "+ \\varepsilon\n",
    "$$\n",
    "\n",
    "donde $\\varepsilon \\sim N(0, \\sigma^2)$"
   ]
  },
  {
   "cell_type": "code",
   "execution_count": null,
   "id": "6c130254-b914-4aa3-89fb-2285cf8ac8b8",
   "metadata": {},
   "outputs": [],
   "source": [
    "#Notar: X1 y X2 son \"confounders\":\n",
    "# 1) Son variables previas al tratamiento.\n",
    "# 2) Afectan simultánemanete la asignación al tratamiento y el resultado\n",
    "# Esto implica: el tratamiento no es aleatorio respecto a los resultados potenciales; depende de confusores que también afectan Y -> se rompe\n",
    "# el supuesto de ignorabilidad"
   ]
  },
  {
   "cell_type": "markdown",
   "id": "162e1bbc-1df2-477f-ab8e-d836789daaef",
   "metadata": {},
   "source": [
    "## 2. Set up de la Simulación"
   ]
  },
  {
   "cell_type": "code",
   "execution_count": 24,
   "id": "981b68df-349b-47f1-9ee6-f46d8be68301",
   "metadata": {},
   "outputs": [],
   "source": [
    "# Simulación de parámetros:\n",
    "\n",
    "np.random.seed(123)  # para reproducibilidad\n",
    "\n",
    "N = 250  # tamaño de la muestra\n",
    "\n",
    "# Parámetros \"verdaderos\" (teóricos)\n",
    "beta0 = 20   # intercepto\n",
    "tau   = 5    # efecto del tratamiento (treatment effect)\n",
    "beta1 = 1    # efecto de los años de educación\n",
    "beta2 = 2    # efecto de los años de experiencia\n",
    "sigma = 1.5    # desviación std del término de error"
   ]
  },
  {
   "cell_type": "markdown",
   "id": "a2aac2d5-a5cb-47b9-b361-775ffb788b9e",
   "metadata": {},
   "source": [
    "#### Nuestros confounders serán:\n",
    "* X1 (Educación): años de escolaridad, entre 8 y 16\n",
    "* X2 (Experiencia): años de experiencia, entre 0 y 10"
   ]
  },
  {
   "cell_type": "code",
   "execution_count": 25,
   "id": "8978e7c1-86ec-4119-8187-5285ef4776ef",
   "metadata": {},
   "outputs": [],
   "source": [
    "#### Vamos a generar los confounders:\n",
    "X1 = np.random.uniform(8, 16, size=N).round()    # educación\n",
    "X2 = np.random.uniform(0, 10, size=N).round()    # experiencia"
   ]
  },
  {
   "cell_type": "markdown",
   "id": "4a34473a-d6d6-4736-afee-1686e19862b5",
   "metadata": {},
   "source": [
    "#### Suponemos que la probabilidad de recibir tratamiento depende de nuestros confounders X1 y X2, y generamos la asignación de tratamiento mediante una función logística:"
   ]
  },
  {
   "cell_type": "code",
   "execution_count": 26,
   "id": "cf210647-b31b-4727-9b75-edd3a374af64",
   "metadata": {},
   "outputs": [],
   "source": [
    "logit = -4 + 0.2*X1 + 0.15*X2\n",
    "prob_D = 1 / (1 + np.exp(-logit))\n",
    "D = np.random.binomial(n=1, p=prob_D, size=N)"
   ]
  },
  {
   "cell_type": "markdown",
   "id": "b4f333c1-6809-4212-8ab3-061defaa9acb",
   "metadata": {},
   "source": [
    "#### Generamos Y:"
   ]
  },
  {
   "cell_type": "code",
   "execution_count": 27,
   "id": "00c01128-28c3-4b68-a932-3110d0f37ad8",
   "metadata": {},
   "outputs": [],
   "source": [
    "eps = np.random.normal(loc=0, scale=sigma, size=N)\n",
    "Y = beta0 + tau*D + beta1*X1 + beta2*X2 + eps"
   ]
  },
  {
   "cell_type": "code",
   "execution_count": 28,
   "id": "6a49ffe2-ba9a-43f4-84f2-ef28c5423814",
   "metadata": {},
   "outputs": [
    {
     "name": "stdout",
     "output_type": "stream",
     "text": [
      "           Y  D    X1   X2\n",
      "0  37.054072  0  14.0  2.0\n",
      "1  35.908437  0  10.0  4.0\n",
      "2  50.369032  1  10.0  7.0\n",
      "3  38.089645  0  12.0  4.0\n",
      "4  44.710984  1  14.0  2.0\n"
     ]
    }
   ],
   "source": [
    "#Construimos nuestro DataFrame:\n",
    "sim_data = pd.DataFrame({\n",
    "    'Y': Y,\n",
    "    'D': D,\n",
    "    'X1': X1,\n",
    "    'X2': X2\n",
    "})\n",
    "\n",
    "\n",
    "print(sim_data.head())"
   ]
  },
  {
   "cell_type": "markdown",
   "id": "54e592cd-a963-4364-9bfb-8e2137285912",
   "metadata": {},
   "source": [
    "### 3. Ajustamos un modelos de regresión lineal"
   ]
  },
  {
   "cell_type": "markdown",
   "id": "e3cea0a4-864c-43e7-9b2e-a200fde33509",
   "metadata": {},
   "source": [
    "#### ¿Qué pasaría si sólo midiéramos el \"efecto\" del tratamiento?"
   ]
  },
  {
   "cell_type": "code",
   "execution_count": 29,
   "id": "a2685cb7-dcac-43eb-923b-e0769c566761",
   "metadata": {},
   "outputs": [
    {
     "name": "stdout",
     "output_type": "stream",
     "text": [
      "                            OLS Regression Results                            \n",
      "==============================================================================\n",
      "Dep. Variable:                      Y   R-squared:                       0.248\n",
      "Model:                            OLS   Adj. R-squared:                  0.245\n",
      "Method:                 Least Squares   F-statistic:                     81.86\n",
      "Date:                Thu, 26 Jun 2025   Prob (F-statistic):           4.38e-17\n",
      "Time:                        17:05:55   Log-Likelihood:                -826.83\n",
      "No. Observations:                 250   AIC:                             1658.\n",
      "Df Residuals:                     248   BIC:                             1665.\n",
      "Df Model:                           1                                         \n",
      "Covariance Type:            nonrobust                                         \n",
      "==============================================================================\n",
      "                 coef    std err          t      P>|t|      [0.025      0.975]\n",
      "------------------------------------------------------------------------------\n",
      "const         40.6001      0.510     79.545      0.000      39.595      41.605\n",
      "D              8.1129      0.897      9.048      0.000       6.347       9.879\n",
      "==============================================================================\n",
      "Omnibus:                       13.709   Durbin-Watson:                   2.019\n",
      "Prob(Omnibus):                  0.001   Jarque-Bera (JB):                5.741\n",
      "Skew:                          -0.003   Prob(JB):                       0.0567\n",
      "Kurtosis:                       2.258   Cond. No.                         2.41\n",
      "==============================================================================\n",
      "\n",
      "Notes:\n",
      "[1] Standard Errors assume that the covariance matrix of the errors is correctly specified.\n"
     ]
    }
   ],
   "source": [
    "outcome = sim_data['Y']\n",
    "predictors = sim_data[['D']]\n",
    "\n",
    "# Añadimos el intercepto\n",
    "predictors = sm.add_constant(predictors)\n",
    "\n",
    "# Ajustamos una regresión mediante MCO\n",
    "model = sm.OLS(outcome, predictors)\n",
    "results = model.fit()\n",
    "\n",
    "# Resultados\n",
    "print(results.summary())"
   ]
  },
  {
   "cell_type": "markdown",
   "id": "25c8d108-b741-4fdc-92cd-241b42a6ae85",
   "metadata": {},
   "source": [
    "#### Comentar sesgo del estimador\n",
    "Parece que el estimador del efecto del tratamiento (tau) es sesgado debido a la presencia de los confounders X1 y X2. \n",
    "El modelo no controla por estas variables, lo que significa que el efecto estimado de D sobre Y puede estar contaminado por la influencia de X1 y X2."
   ]
  },
  {
   "cell_type": "markdown",
   "id": "61049c83-b7a4-4ae7-a9a4-321dc262cca8",
   "metadata": {},
   "source": [
    "#### Incorporando los confounders"
   ]
  },
  {
   "cell_type": "code",
   "execution_count": 30,
   "id": "6a62d60b-7e7a-40a3-a053-cdb4e0a2da60",
   "metadata": {
    "scrolled": true
   },
   "outputs": [
    {
     "name": "stdout",
     "output_type": "stream",
     "text": [
      "                            OLS Regression Results                            \n",
      "==============================================================================\n",
      "Dep. Variable:                      Y   R-squared:                       0.960\n",
      "Model:                            OLS   Adj. R-squared:                  0.960\n",
      "Method:                 Least Squares   F-statistic:                     1989.\n",
      "Date:                Thu, 26 Jun 2025   Prob (F-statistic):          3.95e-172\n",
      "Time:                        17:06:02   Log-Likelihood:                -458.84\n",
      "No. Observations:                 250   AIC:                             925.7\n",
      "Df Residuals:                     246   BIC:                             939.8\n",
      "Df Model:                           3                                         \n",
      "Covariance Type:            nonrobust                                         \n",
      "==============================================================================\n",
      "                 coef    std err          t      P>|t|      [0.025      0.975]\n",
      "------------------------------------------------------------------------------\n",
      "const         19.4319      0.544     35.697      0.000      18.360      20.504\n",
      "D              5.0445      0.212     23.816      0.000       4.627       5.462\n",
      "X1             1.0479      0.044     23.795      0.000       0.961       1.135\n",
      "X2             1.9784      0.033     60.481      0.000       1.914       2.043\n",
      "==============================================================================\n",
      "Omnibus:                        0.395   Durbin-Watson:                   2.052\n",
      "Prob(Omnibus):                  0.821   Jarque-Bera (JB):                0.248\n",
      "Skew:                           0.071   Prob(JB):                        0.883\n",
      "Kurtosis:                       3.062   Cond. No.                         74.6\n",
      "==============================================================================\n",
      "\n",
      "Notes:\n",
      "[1] Standard Errors assume that the covariance matrix of the errors is correctly specified.\n"
     ]
    }
   ],
   "source": [
    "# Definimos outcome (Y) y predictoras (X)\n",
    "outcome = sim_data['Y']\n",
    "predictors = sim_data[['D', 'X1', 'X2']]\n",
    "\n",
    "# Añadimos el intercepto\n",
    "predictors = sm.add_constant(predictors)\n",
    "\n",
    "# Ajustamos una regresión mediante MCO\n",
    "model = sm.OLS(outcome, predictors)\n",
    "results = model.fit()\n",
    "print(results.summary())\n"
   ]
  },
  {
   "cell_type": "markdown",
   "id": "a52bb688-54d0-4520-985d-dd815dba387d",
   "metadata": {},
   "source": [
    "#### Interpretación del coeficiente asociado a D"
   ]
  },
  {
   "cell_type": "code",
   "execution_count": 40,
   "id": "a0f4a139-11be-4248-a3e4-2b0572c9d9dc",
   "metadata": {},
   "outputs": [],
   "source": [
    "# El efecto del tratamiento (tau) se estima como el coeficiente de D en la regresión, que es 4.99 miles de dólares adicionales en el ingreso anual."
   ]
  },
  {
   "cell_type": "markdown",
   "id": "9790c3f4-1892-493c-a2dc-76be100bcc37",
   "metadata": {},
   "source": [
    "* Podemos decir que el efecto del tratamiento (programa de capacitación) es de 4.4k USD sobre el ingreso\n",
    "* Es decir, en promedio, aquellos que tomaron el programa ganan 4.4k más que los que no lo tomaron una vez que CONTROLAMOS educación y experiencia"
   ]
  },
  {
   "cell_type": "markdown",
   "id": "57e85ddc-409b-4ba3-aea7-7d316234f5d7",
   "metadata": {},
   "source": [
    "## 4. Diagnósticos de Causalidad"
   ]
  },
  {
   "cell_type": "markdown",
   "id": "5fdf00f2-e7b0-4144-9715-19232f63ae00",
   "metadata": {},
   "source": [
    "### 4.1 Soporte Común"
   ]
  },
  {
   "cell_type": "markdown",
   "id": "504fbd23-024f-4eec-8649-3f682dbe3765",
   "metadata": {},
   "source": [
    "#### Para ello primero calculamos la \"Propensity Score\":\n",
    "$$\n",
    "P(D=1|X_1,X_2)\n",
    "$$"
   ]
  },
  {
   "cell_type": "code",
   "execution_count": 31,
   "id": "1ec97776-1b07-4400-894e-56a9df65bd01",
   "metadata": {},
   "outputs": [],
   "source": [
    "# Ajustando una regresión logística para el tratamiento \n",
    "X_logit = sim_data[[\"X1\", \"X2\"]]\n",
    "y_logit = sim_data[\"D\"]\n",
    "\n",
    "logit_model = LogisticRegression(fit_intercept=True, solver='lbfgs')\n",
    "logit_model.fit(X_logit, y_logit)\n",
    "\n",
    "# Calculando probabilidades\n",
    "prop_score = logit_model.predict_proba(X_logit)[:, 1]\n",
    "\n",
    "sim_data[\"propensity_score\"] = prop_score\n"
   ]
  },
  {
   "cell_type": "markdown",
   "id": "d3c6c1c2-257f-4d6c-9bcb-5c8be407432e",
   "metadata": {},
   "source": [
    "#### Visualizando intersección (overlap)"
   ]
  },
  {
   "cell_type": "markdown",
   "id": "26ddc46a-f669-4494-a868-165fc863c638",
   "metadata": {},
   "source": [
    "Graficando la distribución de las probabilidades para aquellos que recibieron tratamiento (D=1) vs aquellos que no (D=0). Idealmente, queremos que las distribuciones tengas superposición.  "
   ]
  },
  {
   "cell_type": "code",
   "execution_count": null,
   "id": "7f2f1aed-80a1-4b52-8e25-2d03e0f5bdcd",
   "metadata": {},
   "outputs": [
    {
     "data": {
      "image/png": "[encoded data removed]",
      "text/plain": [
       "<Figure size 640x480 with 1 Axes>"
      ]
     },
     "metadata": {},
     "output_type": "display_data"
    }
   ],
   "source": [
    "sns.kdeplot(data=sim_data[sim_data[\"D\"]==1], x=\"propensity_score\", fill=True, label=\"capacitación\")\n",
    "sns.kdeplot(data=sim_data[sim_data[\"D\"]==0], x=\"propensity_score\", fill=True, label=\"No capacitación\")\n",
    "plt.title(\"Propensity Score Distribution, N=250 sims\")\n",
    "plt.xlabel(\"Propensity Score\")\n",
    "plt.ylabel(\"Density\")\n",
    "plt.legend()\n",
    "plt.show()"
   ]
  },
  {
   "cell_type": "code",
   "execution_count": null,
   "id": "55afc779-f6e1-438f-8bb5-80ca0af30194",
   "metadata": {},
   "outputs": [],
   "source": [
    "#Comentario: hay \"buena\" superposición?"
   ]
  },
  {
   "cell_type": "markdown",
   "id": "08a35f81-3f7a-4dbd-a3cf-633ca7e2895e",
   "metadata": {},
   "source": [
    "### Inverse probability weighting"
   ]
  },
  {
   "cell_type": "code",
   "execution_count": 42,
   "id": "e03802a9-411a-4eca-8f12-0765c188fabc",
   "metadata": {},
   "outputs": [
    {
     "name": "stdout",
     "output_type": "stream",
     "text": [
      "Weighted Mean of X1 for Treated:    12.046912301081655\n",
      "Weighted Mean of X1 for Untreated:  12.014180809324392\n",
      "Weighted Mean of X2 for Treated:    4.870511209065573\n",
      "Weighted Mean of X2 for Untreated:  4.843106961001532\n"
     ]
    }
   ],
   "source": [
    "# IPTW weights:  w = 1 / p(D=1|X) para tratamiento D=1,  w = 1 / [1 - p(D=1|X)] para los no tratados\n",
    "\n",
    "sim_data[\"weight\"] = np.where(sim_data[\"D\"] == 1,\n",
    "                              1 / sim_data[\"propensity_score\"],\n",
    "                              1 / (1 - sim_data[\"propensity_score\"]))\n",
    "\n",
    "# Media ponderada de X1 en tratados vs no tratados:\n",
    "\n",
    "treated_weighted_mean_X1   = np.average(sim_data.loc[sim_data[\"D\"]==1, \"X1\"],\n",
    "                                        weights=sim_data.loc[sim_data[\"D\"]==1, \"weight\"])\n",
    "untreated_weighted_mean_X1 = np.average(sim_data.loc[sim_data[\"D\"]==0, \"X1\"],\n",
    "                                        weights=sim_data.loc[sim_data[\"D\"]==0, \"weight\"])\n",
    "\n",
    "print(\"Weighted Mean of X1 for Treated:   \", treated_weighted_mean_X1)\n",
    "print(\"Weighted Mean of X1 for Untreated: \", untreated_weighted_mean_X1)\n",
    "\n",
    "# Media ponderada de X2 en tratados vs no tratados:\n",
    "\n",
    "treated_weighted_mean_X2   = np.average(sim_data.loc[sim_data[\"D\"]==1, \"X2\"],\n",
    "                                        weights=sim_data.loc[sim_data[\"D\"]==1, \"weight\"])\n",
    "untreated_weighted_mean_X2 = np.average(sim_data.loc[sim_data[\"D\"]==0, \"X2\"],\n",
    "                                        weights=sim_data.loc[sim_data[\"D\"]==0, \"weight\"])\n",
    "\n",
    "print(\"Weighted Mean of X2 for Treated:   \", treated_weighted_mean_X2)\n",
    "print(\"Weighted Mean of X2 for Untreated: \", untreated_weighted_mean_X2)"
   ]
  },
  {
   "cell_type": "code",
   "execution_count": 44,
   "id": "db72e860",
   "metadata": {},
   "outputs": [],
   "source": [
    "#### con esto podemos comprobar es que los pesos IPTW están funcionando como deberían, ya que las medias ponderadas de los confounders X1 y X2 son similares entre los grupos tratados y no tratados."
   ]
  },
  {
   "cell_type": "code",
   "execution_count": 43,
   "id": "d7cd0da8",
   "metadata": {},
   "outputs": [
    {
     "data": {
      "text/plain": [
       "np.float64(499.29958315340747)"
      ]
     },
     "execution_count": 43,
     "metadata": {},
     "output_type": "execute_result"
    }
   ],
   "source": [
    "sim_data[\"weight\"].sum()"
   ]
  },
  {
   "cell_type": "markdown",
   "id": "8bbacc9f-0d30-4fb1-b637-a7a5f383963d",
   "metadata": {},
   "source": [
    "### 1. Vamos a *suponer* un proceso generador de los datos de tal forma que podamos explicar cómo abordar la causalidad mediante un modelo de regresión lineal. Tomemos el siguiente ejemplo:\n",
    "Queremos medir el efecto causal (causal effect) de un programa de capacitación (D) - *tratamiento*- , en el ingreso anual (Y), donde tenemos además dos variables que influyen en el ingreso:\n",
    "* Educación (medida en años, X1)\n",
    "* Experiencia laboral (medida en años, X2)\n",
    "\n",
    "#### 1.1 Parámetros\n",
    "Definimos los parámetros “verdaderos”  de la siguiente forma:\n",
    "* Intercepto $\\beta_0: 20$  (ingreso anual base en miles de USD)\n",
    "* Efecto del tratamiento (programa de capacitación) en miles de USD: $\\tau = 5$ (el incremento en el ingreso debido al programa de capacitación es de 5k USD, en promedio, manteniendo lo demás constante)\n",
    "* Efecto de la educación: $\\beta_1: 1$ (cada año adicional de escolaridad/educación incrementa el ingreso anual en 1k USD)\n",
    "* Efecto de la experiencia: $\\beta_2: 2$ (cada año adicional de experiencia incrementa el ingreso anual en 2k USD)\n",
    "* Varianza del error: $\\sigma=1.5$"
   ]
  },
  {
   "cell_type": "markdown",
   "id": "45b8adf7-e0e8-4784-83ff-67c5aa63e73c",
   "metadata": {},
   "source": [
    "### 4.2 Balance"
   ]
  },
  {
   "cell_type": "markdown",
   "id": "bc2419b0-0c9b-432b-a3c5-ff37d809a285",
   "metadata": {},
   "source": [
    "####  Diferencias de Medias Estandarizadas"
   ]
  },
  {
   "cell_type": "markdown",
   "id": "f130cd5c-025a-4574-acdb-3f66b64ca33b",
   "metadata": {},
   "source": [
    "$$\n",
    "\\text{SMD} \\;=\\; \\frac{\\overline{X}_\\mathrm{treated} \\;-\\; \\overline{X}_\\mathrm{control}}\n",
    "{\\sqrt{\\frac{s^2_\\mathrm{treated} + s^2_\\mathrm{control}}{2}}}\n",
    "$$\n"
   ]
  },
  {
   "cell_type": "code",
   "execution_count": 34,
   "id": "a5ccc7db-03f8-44be-a959-bd91ca8e8210",
   "metadata": {},
   "outputs": [
    {
     "name": "stdout",
     "output_type": "stream",
     "text": [
      "X1:  SMD sin peso = 0.262   |   SMD IPTW = 0.015\n",
      "X2:  SMD sin peso = 0.416   |   SMD IPTW = 0.009\n"
     ]
    }
   ],
   "source": [
    "def smd(x_t, x_c, w_t=None, w_c=None):\n",
    "    \"\"\"Standardized mean difference (con o sin pesos).\"\"\"\n",
    "    if w_t is None:\n",
    "        # medias simples\n",
    "        mt, mc = np.mean(x_t), np.mean(x_c)\n",
    "        vt, vc = np.var(x_t, ddof=1), np.var(x_c, ddof=1)\n",
    "    else:\n",
    "        # medias ponderadas\n",
    "        mt = np.average(x_t, weights=w_t)\n",
    "        mc = np.average(x_c, weights=w_c)\n",
    "        vt = np.average((x_t - mt) ** 2, weights=w_t)\n",
    "        vc = np.average((x_c - mc) ** 2, weights=w_c)\n",
    "    return (mt - mc) / np.sqrt(0.5 * (vt + vc))\n",
    "\n",
    "treated   = sim_data[sim_data[\"D\"] == 1]\n",
    "control   = sim_data[sim_data[\"D\"] == 0]\n",
    "\n",
    "for var in [\"X1\", \"X2\"]:\n",
    "    raw  = smd(treated[var], control[var])\n",
    "    w    = smd(treated[var], control[var],\n",
    "               w_t=treated[\"weight\"], w_c=control[\"weight\"])\n",
    "    print(f\"{var}:  SMD sin peso = {raw:.3f}   |   SMD IPTW = {w:.3f}\")\n"
   ]
  },
  {
   "cell_type": "code",
   "execution_count": 45,
   "id": "10e294cc-8208-4b86-85aa-bd37bf02cd6e",
   "metadata": {},
   "outputs": [],
   "source": [
    "# Obserce que la SMD sin pesos son mayores a 0.1, lo que indica un sesgo en la asignación al tratamiento."
   ]
  },
  {
   "cell_type": "markdown",
   "id": "8f8b1e22-e96b-4f1b-90c5-d7d0f7be7eb2",
   "metadata": {},
   "source": [
    "### Recortamos pesos 'extremos'"
   ]
  },
  {
   "cell_type": "code",
   "execution_count": 35,
   "id": "8803a8e2-b806-4c59-a5e3-9ef66eeed1b9",
   "metadata": {},
   "outputs": [],
   "source": [
    "# Trimming simple: descartar pesos por encima del percentil 99 o por debajo del 1\n",
    "pct1, pct99 = np.percentile(sim_data[\"weight\"], [1, 99])\n",
    "mask = (sim_data[\"weight\"] >= pct1) & (sim_data[\"weight\"] <= pct99)\n",
    "sim_trim = sim_data.loc[mask].copy()\n"
   ]
  },
  {
   "cell_type": "code",
   "execution_count": null,
   "id": "9b635eb1-5327-4caf-a07a-7d8a2008f708",
   "metadata": {},
   "outputs": [
    {
     "name": "stdout",
     "output_type": "stream",
     "text": [
      "(246, 6)\n",
      " \n",
      "(250, 6)\n"
     ]
    }
   ],
   "source": [
    "# comparando tamaños de muestra\n",
    "print(\"Original sample size:\", sim_data.shape[0])\n",
    "print(sim_trim.shape)\n",
    "print(\" \")\n",
    "print(sim_data.shape)"
   ]
  },
  {
   "cell_type": "code",
   "execution_count": null,
   "id": "17cdee44-4505-4f45-b529-21878f4139a4",
   "metadata": {},
   "outputs": [
    {
     "name": "stdout",
     "output_type": "stream",
     "text": [
      "                            WLS Regression Results                            \n",
      "==============================================================================\n",
      "Dep. Variable:                      Y   R-squared:                       0.141\n",
      "Model:                            WLS   Adj. R-squared:                  0.138\n",
      "Method:                 Least Squares   F-statistic:                     39.69\n",
      "Date:                Thu, 26 Jun 2025   Prob (F-statistic):           1.38e-09\n",
      "Time:                        17:57:17   Log-Likelihood:                -813.57\n",
      "No. Observations:                 246   AIC:                             1631.\n",
      "Df Residuals:                     244   BIC:                             1638.\n",
      "Df Model:                           1                                         \n",
      "Covariance Type:                  HC3                                         \n",
      "==============================================================================\n",
      "                 coef    std err          z      P>|z|      [0.025      0.975]\n",
      "------------------------------------------------------------------------------\n",
      "const         41.6624      0.535     77.886      0.000      40.614      42.711\n",
      "D              5.7715      0.916      6.300      0.000       3.976       7.567\n",
      "==============================================================================\n",
      "Omnibus:                        8.599   Durbin-Watson:                   2.053\n",
      "Prob(Omnibus):                  0.014   Jarque-Bera (JB):                4.849\n",
      "Skew:                           0.139   Prob(JB):                       0.0885\n",
      "Kurtosis:                       2.371   Cond. No.                         2.42\n",
      "==============================================================================\n",
      "\n",
      "Notes:\n",
      "[1] Standard Errors are heteroscedasticity robust (HC3)\n",
      "                            WLS Regression Results                            \n",
      "==============================================================================\n",
      "Dep. Variable:                      Y   R-squared:                       0.953\n",
      "Model:                            WLS   Adj. R-squared:                  0.953\n",
      "Method:                 Least Squares   F-statistic:                     1815.\n",
      "Date:                Thu, 26 Jun 2025   Prob (F-statistic):          1.57e-165\n",
      "Time:                        17:57:17   Log-Likelihood:                -455.52\n",
      "No. Observations:                 246   AIC:                             919.0\n",
      "Df Residuals:                     242   BIC:                             933.1\n",
      "Df Model:                           3                                         \n",
      "Covariance Type:                  HC3                                         \n",
      "==============================================================================\n",
      "                 coef    std err          z      P>|z|      [0.025      0.975]\n",
      "------------------------------------------------------------------------------\n",
      "const         19.8300      0.581     34.150      0.000      18.692      20.968\n",
      "D              5.0821      0.225     22.633      0.000       4.642       5.522\n",
      "X1             1.0224      0.048     21.471      0.000       0.929       1.116\n",
      "X2             1.9586      0.035     55.810      0.000       1.890       2.027\n",
      "==============================================================================\n",
      "Omnibus:                        0.102   Durbin-Watson:                   2.058\n",
      "Prob(Omnibus):                  0.950   Jarque-Bera (JB):                0.011\n",
      "Skew:                           0.008   Prob(JB):                        0.994\n",
      "Kurtosis:                       3.029   Cond. No.                         77.2\n",
      "==============================================================================\n",
      "\n",
      "Notes:\n",
      "[1] Standard Errors are heteroscedasticity robust (HC3)\n"
     ]
    }
   ],
   "source": [
    "# 1. Ojo, ahora es con el DataFrame recortado (sim_trim)\n",
    "ps_trim = sim_trim[\"propensity_score\"]\n",
    "\n",
    "# 2. Pesos estabilizados\n",
    "p_treated = (sim_trim[\"D\"] == 1).mean()          # proporción de tratados tras el recorte\n",
    "sim_trim[\"sw\"] = np.where(sim_trim[\"D\"] == 1,\n",
    "                          p_treated / ps_trim,\n",
    "                          (1 - p_treated) / (1 - ps_trim))\n",
    "\n",
    "# 3. Regresión ponderada con pesos estabilizados sw:\n",
    "\n",
    "y  = sim_trim[\"Y\"]\n",
    "X  = sm.add_constant(sim_trim[\"D\"])\n",
    "w  = sim_trim[\"sw\"]\n",
    "\n",
    "wls_sw = sm.WLS(y, X, weights=w).fit(cov_type=\"HC3\") # Belsey, Kuh y Welsh, 1984. Reggression with robust standard errors\n",
    "print(wls_sw.summary())\n",
    "\n",
    "# 4. Regresión doblemente robusta (doubly robust):\n",
    "\n",
    "X_dr = sm.add_constant(sim_trim[[\"D\", \"X1\", \"X2\"]])  # const, D, X1, X2\n",
    "y     = sim_trim[\"Y\"]\n",
    "w     = sim_trim[\"sw\"]\n",
    "dr_model = sm.WLS(y, X_dr, weights=w).fit(cov_type=\"HC3\")\n",
    "print(dr_model.summary())\n",
    "\n",
    "\n"
   ]
  },
  {
   "cell_type": "code",
   "execution_count": null,
   "id": "82bc2cbc-1020-41d5-b23f-f12689b5da33",
   "metadata": {},
   "outputs": [],
   "source": []
  }
 ],
 "metadata": {
  "kernelspec": {
   "display_name": "env_causal",
   "language": "python",
   "name": "python3"
  },
  "language_info": {
   "codemirror_mode": {
    "name": "ipython",
    "version": 3
   },
   "file_extension": ".py",
   "mimetype": "text/x-python",
   "name": "python",
   "nbconvert_exporter": "python",
   "pygments_lexer": "ipython3",
   "version": "3.10.12"
  }
 },
 "nbformat": 4,
 "nbformat_minor": 5
}
