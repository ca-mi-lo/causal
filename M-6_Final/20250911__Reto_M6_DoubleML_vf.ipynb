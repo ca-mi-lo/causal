{
  "cells": [
    {
      "cell_type": "markdown",
      "id": "1",
      "metadata": {
        "id": "1"
      },
      "source": [
        "## Impacto del plan 401(k) en Riqueza Financiera\n",
        "\n",
        "\n",
        "En la clase pasada, como aplicación del Método Double ML, consideramos la estimación del efecto de la elegibilidad  en planes 401(k) sobre los activos acumulados. Los planes 401(k) son cuentas de pensión patrocinadas por los empleadores. El problema clave al determinar el efecto de la participación en planes 401(k) sobre los activos acumulados es la **heterogeneidad de los ahorradores**, junto con el hecho de que la decisión de inscribirse en un 401(k) **no es aleatoria**.\n",
        "\n",
        "El reto de esta semana consiste en determinar el **efecto causal de la participación en un plan 401k (p401) sobre la riqueza financiera (net_tfa)**"
      ]
    },
    {
      "cell_type": "markdown",
      "id": "2",
      "metadata": {
        "id": "2"
      },
      "source": [
        "### Datos\n"
      ]
    },
    {
      "cell_type": "code",
      "execution_count": null,
      "id": "3",
      "metadata": {
        "id": "3"
      },
      "outputs": [],
      "source": [
        "!pip install wget\n",
        "!pip install formulaic"
      ]
    },
    {
      "cell_type": "code",
      "execution_count": null,
      "metadata": {},
      "outputs": [],
      "source": [
        "# Librerías\n",
        "import pandas as pd\n",
        "import numpy as np\n",
        "import matplotlib.pyplot as plt"
      ]
    },
    {
      "cell_type": "code",
      "execution_count": null,
      "id": "4",
      "metadata": {
        "id": "4"
      },
      "outputs": [],
      "source": [
        "\n",
        "from sklearn.model_selection import cross_val_predict, KFold\n",
        "from sklearn.pipeline import make_pipeline\n",
        "from sklearn.linear_model import LassoCV, LinearRegression, LogisticRegressionCV\n",
        "from sklearn.preprocessing import StandardScaler\n",
        "from sklearn.ensemble import GradientBoostingRegressor, GradientBoostingClassifier\n",
        "from sklearn.ensemble import RandomForestRegressor, RandomForestClassifier\n",
        "from sklearn.tree import DecisionTreeRegressor, DecisionTreeClassifier\n",
        "from sklearn.base import TransformerMixin, BaseEstimator, clone\n",
        "from IPython.display import Markdown\n",
        "import wget\n",
        "import seaborn as sns\n",
        "from formulaic import Formula\n",
        "import warnings\n",
        "warnings.simplefilter('ignore')\n",
        "np.random.seed(1234)"
      ]
    },
    {
      "cell_type": "code",
      "execution_count": null,
      "id": "5",
      "metadata": {
        "id": "5"
      },
      "outputs": [],
      "source": [
        "file = \"https://raw.githubusercontent.com/CausalAIBook/MetricsMLNotebooks/main/data/401k.csv\"\n",
        "data = pd.read_csv(file)"
      ]
    },
    {
      "cell_type": "code",
      "execution_count": null,
      "id": "7",
      "metadata": {
        "id": "7"
      },
      "outputs": [],
      "source": [
        "data.head()"
      ]
    },
    {
      "cell_type": "code",
      "execution_count": null,
      "id": "8",
      "metadata": {
        "id": "8"
      },
      "outputs": [],
      "source": [
        "readme = \"https://raw.githubusercontent.com/CausalAIBook/MetricsMLNotebooks/main/data/401k.md\"\n",
        "filename = wget.download(readme)\n",
        "Markdown(open(filename, 'r').read())"
      ]
    },
    {
      "cell_type": "markdown",
      "id": "tIPq3kzR0-Ol",
      "metadata": {
        "id": "tIPq3kzR0-Ol"
      },
      "source": [
        "## Preguntas 1 y 2"
      ]
    },
    {
      "cell_type": "markdown",
      "id": "12",
      "metadata": {
        "id": "12"
      },
      "source": [
        "1. ¿Está la participación en el programa está asociada con riqueza financiera? Justifica tu respuesta"
      ]
    },
    {
      "cell_type": "markdown",
      "id": "14",
      "metadata": {
        "id": "14"
      },
      "source": [
        "2. ¿Cuál es el \"Average predictive effect\" (APE) de *p401* en *net_tfa*?"
      ]
    },
    {
      "cell_type": "markdown",
      "id": "18",
      "metadata": {
        "id": "18"
      },
      "source": [
        "Notemos que estos valores estimados están sesgados ya que no toman en cuenta la heterogeneidad de los ahorradores"
      ]
    },
    {
      "cell_type": "code",
      "execution_count": null,
      "id": "19",
      "metadata": {
        "id": "19"
      },
      "outputs": [],
      "source": [
        "#Seleccionando variables\n",
        "y = data['net_tfa'].values\n",
        "D = data['e401'].values\n",
        "D2 = data['p401'].values\n",
        "D3 = data['a401'].values\n",
        "X = data.drop(['e401', 'p401', 'a401', 'tw', 'tfa', 'net_tfa', 'tfa_he',\n",
        "               'hval', 'hmort', 'hequity',\n",
        "               'nifa', 'net_nifa', 'net_n401', 'ira',\n",
        "               'dum91', 'icat', 'ecat', 'zhat',\n",
        "               'i1', 'i2', 'i3', 'i4', 'i5', 'i6', 'i7',\n",
        "               'a1', 'a2', 'a3', 'a4', 'a5'], axis=1)\n",
        "X.columns"
      ]
    },
    {
      "cell_type": "markdown",
      "id": "20",
      "metadata": {
        "id": "20"
      },
      "source": [
        "### Definimos una transformación para el feature engineering de los controles"
      ]
    },
    {
      "cell_type": "code",
      "execution_count": null,
      "id": "21",
      "metadata": {
        "id": "21"
      },
      "outputs": [],
      "source": [
        "class FormulaTransformer(TransformerMixin, BaseEstimator):\n",
        "\n",
        "    def __init__(self, formula, array=False):\n",
        "        self.formula = formula\n",
        "        self.array = array\n",
        "\n",
        "    def fit(self, X, y=None):\n",
        "        return self\n",
        "\n",
        "    def transform(self, X, y=None):\n",
        "        df = Formula(self.formula).get_model_matrix(X)\n",
        "        if self.array:\n",
        "            return df.values\n",
        "        return df"
      ]
    },
    {
      "cell_type": "code",
      "execution_count": null,
      "id": "24",
      "metadata": {
        "id": "24"
      },
      "outputs": [],
      "source": [
        "transformer = FormulaTransformer(\"0 + poly(age, degree=6, raw=True) + poly(inc, degree=8, raw=True) \"\n",
        "                                 \"+ poly(educ, degree=4, raw=True) + poly(fsize, degree=2, raw=True) \"\n",
        "                                 \"+ male + marr + twoearn + db + pira + hown\", array=True)"
      ]
    },
    {
      "cell_type": "markdown",
      "id": "25",
      "metadata": {
        "id": "25"
      },
      "source": [
        "## Calculando el ATE de la participación en el plan 401k en los Activos Financieros Netos"
      ]
    },
    {
      "cell_type": "markdown",
      "id": "26",
      "metadata": {
        "id": "26"
      },
      "source": [
        "Queremos estimadores válidos del efecto promedio del tratamiento (ATE) de  `p401` y  en `net_tfa`. Utilizamos modelos de ML para estimar las funciones $g_0$ y $m_0$ en el siguiente modelo"
      ]
    },
    {
      "cell_type": "markdown",
      "id": "27",
      "metadata": {
        "id": "27"
      },
      "source": [
        "\\begin{eqnarray}\n",
        " &  Y = D\\theta_0 + g_0(X) + \\zeta,  &  E[\\zeta \\mid D,X]= 0,\\\\\n",
        " & D = m_0(X) +  V,   &  E[V \\mid X] = 0.\n",
        "\\end{eqnarray}"
      ]
    },
    {
      "cell_type": "markdown",
      "id": "XwoMT_Q21F83",
      "metadata": {
        "id": "XwoMT_Q21F83"
      },
      "source": [
        "## Preguntas 3, 4 y 5"
      ]
    },
    {
      "cell_type": "markdown",
      "id": "iI4BtoOGxm1K",
      "metadata": {
        "id": "iI4BtoOGxm1K"
      },
      "source": [
        "3. Calcula el efecto promedio causal (ATE) de la participación en el plan 401k sobre la riqueza financiera.\n",
        "\n",
        "4. ¿Cómo compara este efecto con el ATE de la elegibilidad a participar en este plan sobre la riqueza financiera (clase pasada)?\n",
        "\n",
        "5. Justifica tu elección de los modelos de Machine Learning empleados para la estimación de *`y`* y de *`D`*"
      ]
    }
  ],
  "metadata": {
    "colab": {
      "provenance": [],
      "toc_visible": true
    },
    "kernelspec": {
      "display_name": "Python 3 (ipykernel)",
      "language": "python",
      "name": "python3"
    },
    "language_info": {
      "codemirror_mode": {
        "name": "ipython",
        "version": 3
      },
      "file_extension": ".py",
      "mimetype": "text/x-python",
      "name": "python",
      "nbconvert_exporter": "python",
      "pygments_lexer": "ipython3",
      "version": "3.11.5"
    },
    "papermill": {
      "default_parameters": {},
      "duration": 537.547458,
      "end_time": "2021-03-24T14:22:44.931595",
      "environment_variables": {},
      "exception": null,
      "input_path": "__notebook__.ipynb",
      "output_path": "__notebook__.ipynb",
      "parameters": {},
      "start_time": "2021-03-24T14:13:47.384137",
      "version": "2.3.2"
    }
  },
  "nbformat": 4,
  "nbformat_minor": 5
}
