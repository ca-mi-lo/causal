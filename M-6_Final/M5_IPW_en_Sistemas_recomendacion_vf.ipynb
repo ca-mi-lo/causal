{
 "cells": [
  {
   "cell_type": "code",
   "execution_count": 1,
   "metadata": {},
   "outputs": [],
   "source": [
    "import warnings\n",
    "warnings.filterwarnings(\"ignore\")"
   ]
  },
  {
   "cell_type": "markdown",
   "metadata": {
    "id": "Czkr5xqWIdU2"
   },
   "source": [
    "# Introducción\n",
    "Los sistemas de recomendación son algoritmos diseñados para sugerir elementos relevantes a los usuarios. Su objetivo principal es predecir la “calificación” o “preferencia” que un usuario daría a un ítem.\n",
    "\n",
    "Existen tres enfoques principales:\n",
    "1. **Filtrado Colaborativo (CF):** se apoya en similitudes entre usuarios o ítems.\n",
    "2. **Basado en Contenido:** usa características de los ítems para recomendar.\n",
    "3. **Modelos Híbridos:** combinan ambos.\n"
   ]
  },
  {
   "cell_type": "code",
   "execution_count": null,
   "metadata": {
    "id": "rBtl6NydZZ5I"
   },
   "outputs": [],
   "source": []
  },
  {
   "cell_type": "markdown",
   "metadata": {
    "id": "Blsn7nncKpDu"
   },
   "source": [
    "### 1. Filtrado Colaborativo (CF)\n",
    "\n",
    "Este es el enfoque más común, realiza predicciones basadas en los comportamientos pasados de un gran grupo de usuarios.\n",
    "\n",
    "Hay dos subtipos principales:\n",
    "\n",
    "- -  **Filtrado colaborativo basado en usuarios:** encuentra usuarios similares al usuario objetivo (es decir, que han calificado ítems de manera parecida en el pasado) y recomienda ítems que estos usuarios similares han disfrutado pero que el usuario objetivo aún no ha visto.\n",
    "\n",
    "*Analogía:* es como preguntar a tus amigos con gustos similares en películas que te recomienden una.\n",
    "\n",
    "- - **Filtrado colaborativo basado en ítems:** en lugar de buscar usuarios similares, encuentra ítems similares a los que el usuario ya ha calificado positivamente. Calcula la similitud en función de quién los ha visto, gustado o comprado. Ejemplo: usuarios que compraron Álgebra Lineal y sus Aplicaciones también compraron con frecuencia Introducción a los Algoritmos.\n",
    "\n",
    " Es como la función de Amazon “Clientes que compraron este producto también compraron...”.\n",
    "\n",
    "**Ventajas:**\n",
    "\n",
    "- No requiere conocer las características de los ítems ni de los usuarios -(agnóstico al contenido).\n",
    "\n",
    "- Puede generar recomendaciones inesperadas (serendipia), sugiriendo ítems que el usuario no habría descubierto por sí mismo.\n",
    "\n",
    "**Desventajas:**\n",
    "\n",
    "- Problema de arranque en frío: difícil recomendar a nuevos usuarios o evaluar ítems nuevos sin historial.\n",
    "\n",
    "- Escasez de datos: el rendimiento baja cuando la matriz de interacciones usuario-ítem es muy dispersa."
   ]
  },
  {
   "cell_type": "markdown",
   "metadata": {
    "id": "lzWaf7MnRrYG"
   },
   "source": [
    "#### Factorización Matricial (SVD)\n",
    "Una técnica muy usada en CF es la inspirada en la **factorización matricial (Singular Value Descomposition)**:\n",
    "\n",
    "Descompone la gran matriz dispersa de interacciones usuario-ítem (R) en dos matrices más pequeñas y densas:\n",
    "\n",
    "- Una de características de usuarios (P)  \n",
    "- Otra de características de ítems (Q)  \n",
    "\n",
    "El producto punto entre un vector de usuario en (P) y uno de ítem en (Q) aproxima la calificación esperada:\n",
    "\n",
    "$$\n",
    "R \\approx P\\, Q^{\\top}\n",
    "$$\n",
    "\n",
    "Con esto podemos predecir la preferencia de un usuario por un ítem.\n",
    "\n",
    "Pero si los datos de \\(R\\) están sesgados (ej. solo vemos películas populares), entonces la factorización **también aprenderá el sesgo**."
   ]
  },
  {
   "cell_type": "markdown",
   "metadata": {
    "id": "3A8ywGzWS4ms"
   },
   "source": [
    "## El Problema de los Confusores\n",
    "- **Confusores (confounders):** Son variables que afectan tanto la exposición como el resultado.\n",
    "- Ejemplos:\n",
    "  - Popularidad: lo más visto parece “mejor”.\n",
    "  - Posición en pantalla: lo que aparece primero recibe más clics.\n",
    "  - Contexto: día, dispositivo, campañas, etc.\n",
    "\n",
    "### Consecuencias:\n",
    "- **Sesgo hacia lo popular.**\n",
    "- **Feedback loop:** lo popular se recomienda más → genera más datos → se recomienda más.  \n",
    "- **Evaluación sesgada:** las métricas tradicionales pueden sobreestimar el rendimiento.\n",
    "\n",
    "Por lo tanto necesitamos técnicas que **corrijan este sesgo**."
   ]
  },
  {
   "cell_type": "markdown",
   "metadata": {
    "id": "APRktx22Tcl7"
   },
   "source": [
    "## Ejemplo\n",
    "Para abordar el problema anterior realizaremos un sistema de recomendacion con la base movielens la cual contiene información de calificaciones y etiquetas de películas recolectadas en la plataforma [MovieLens](http://movielens.org), un sistema de recomendación de películas desarrollado por **GroupLens Research** de la Universidad de Minnesota.\n",
    "\n",
    "- **Tamaño del dataset:**  \n",
    "  - **100,836** calificaciones  \n",
    "  - **3,683** etiquetas (tags)  \n",
    "  - **9,742** películas  \n",
    "  - **610** usuarios  \n",
    "\n",
    "- **Periodo de recolección:** Desde **29 de marzo de 1996** hasta **24 de septiembre de 2018**.  \n",
    "- **Última generación del dataset:** **26 de septiembre de 2018**.  \n",
    "- **Condición de selección de usuarios:** cada usuario incluido ha calificado al menos **20 películas**.  \n",
    "- **Nota:** No incluye datos demográficos de los usuarios (solo un `userId` anónimo).\n",
    "\n",
    "### Archivos del Dataset\n",
    "El dataset está compuesto por cuatro archivos CSV principales:\n",
    "\n",
    "#### 1. `ratings.csv`\n",
    "Contiene todas las calificaciones hechas por los usuarios.\n",
    "- **Variables:**  userId, movieId, rating, timestamp\n",
    "\n",
    "- **Detalles:**  \n",
    " - `rating` va de **0.5 a 5.0** en incrementos de 0.5 estrellas.  \n",
    " -  `timestamp` representa segundos desde el 1 de enero de 1970 (UTC).\n",
    "\n",
    "#### 2. `tags.csv`\n",
    "Contiene las etiquetas (palabras clave o frases cortas) aplicadas por usuarios a las películas.\n",
    "- **Variables:** userId, movieId, tag, timestamp\n",
    "\n",
    "- **Detalles:**  \n",
    " - `tag` son metadatos generados por usuarios.  \n",
    " - `timestamp` en el mismo formato que en `ratings.csv`.\n",
    "\n",
    "#### 3. `movies.csv`\n",
    "Contiene la información básica de cada película.\n",
    "- **Variables:** movieId, title, genres\n",
    "\n",
    "- **Detalles:**  \n",
    " - `title`: nombre de la película con el año en paréntesis (ej. *Toy Story (1995)*).  \n",
    " - `genres`: lista separada por barras verticales `|` (ej. *Adventure|Animation|Children|Comedy|Fantasy*).  \n",
    " - Posibles géneros incluyen: *Action, Adventure, Animation, Comedy, Drama, Fantasy, Horror, Romance, Sci-Fi, Thriller, War, Western,* entre otros.\n",
    "\n",
    "#### 4. `links.csv`\n",
    "Contiene identificadores que permiten enlazar las películas con otras bases de datos.\n",
    "- **Variables:**  movieId,imdbId,tmdbId\n",
    "- **Detalles:**  \n",
    " - `imdbId`: corresponde al identificador de [IMDb](http://www.imdb.com).  \n",
    " - `tmdbId`: corresponde al identificador de [The Movie Database (TMDb)](https://www.themoviedb.org).  \n"
   ]
  },
  {
   "cell_type": "markdown",
   "metadata": {
    "id": "VlifWjP0ZNrr"
   },
   "source": [
    " ### Baseline sin corrección (SVD simple)"
   ]
  },
  {
   "cell_type": "code",
   "execution_count": 2,
   "metadata": {
    "colab": {
     "base_uri": "https://localhost:8080/",
     "height": 206
    },
    "id": "DsmD2MbpXdAL",
    "outputId": "abcfe4a3-3608-4213-ab82-b526a4e72bdd"
   },
   "outputs": [
    {
     "data": {
      "application/vnd.microsoft.datawrangler.viewer.v0+json": {
       "columns": [
        {
         "name": "index",
         "rawType": "int64",
         "type": "integer"
        },
        {
         "name": "userId",
         "rawType": "int64",
         "type": "integer"
        },
        {
         "name": "movieId",
         "rawType": "int64",
         "type": "integer"
        },
        {
         "name": "rating",
         "rawType": "float64",
         "type": "float"
        },
        {
         "name": "timestamp",
         "rawType": "int64",
         "type": "integer"
        }
       ],
       "ref": "74a4f87b-8d08-4f83-95a8-0bf7f7cf0d21",
       "rows": [
        [
         "0",
         "1",
         "1",
         "4.0",
         "964982703"
        ],
        [
         "1",
         "1",
         "3",
         "4.0",
         "964981247"
        ],
        [
         "2",
         "1",
         "6",
         "4.0",
         "964982224"
        ],
        [
         "3",
         "1",
         "47",
         "5.0",
         "964983815"
        ],
        [
         "4",
         "1",
         "50",
         "5.0",
         "964982931"
        ]
       ],
       "shape": {
        "columns": 4,
        "rows": 5
       }
      },
      "text/html": [
       "<div>\n",
       "<style scoped>\n",
       "    .dataframe tbody tr th:only-of-type {\n",
       "        vertical-align: middle;\n",
       "    }\n",
       "\n",
       "    .dataframe tbody tr th {\n",
       "        vertical-align: top;\n",
       "    }\n",
       "\n",
       "    .dataframe thead th {\n",
       "        text-align: right;\n",
       "    }\n",
       "</style>\n",
       "<table border=\"1\" class=\"dataframe\">\n",
       "  <thead>\n",
       "    <tr style=\"text-align: right;\">\n",
       "      <th></th>\n",
       "      <th>userId</th>\n",
       "      <th>movieId</th>\n",
       "      <th>rating</th>\n",
       "      <th>timestamp</th>\n",
       "    </tr>\n",
       "  </thead>\n",
       "  <tbody>\n",
       "    <tr>\n",
       "      <th>0</th>\n",
       "      <td>1</td>\n",
       "      <td>1</td>\n",
       "      <td>4.0</td>\n",
       "      <td>964982703</td>\n",
       "    </tr>\n",
       "    <tr>\n",
       "      <th>1</th>\n",
       "      <td>1</td>\n",
       "      <td>3</td>\n",
       "      <td>4.0</td>\n",
       "      <td>964981247</td>\n",
       "    </tr>\n",
       "    <tr>\n",
       "      <th>2</th>\n",
       "      <td>1</td>\n",
       "      <td>6</td>\n",
       "      <td>4.0</td>\n",
       "      <td>964982224</td>\n",
       "    </tr>\n",
       "    <tr>\n",
       "      <th>3</th>\n",
       "      <td>1</td>\n",
       "      <td>47</td>\n",
       "      <td>5.0</td>\n",
       "      <td>964983815</td>\n",
       "    </tr>\n",
       "    <tr>\n",
       "      <th>4</th>\n",
       "      <td>1</td>\n",
       "      <td>50</td>\n",
       "      <td>5.0</td>\n",
       "      <td>964982931</td>\n",
       "    </tr>\n",
       "  </tbody>\n",
       "</table>\n",
       "</div>"
      ],
      "text/plain": [
       "   userId  movieId  rating  timestamp\n",
       "0       1        1     4.0  964982703\n",
       "1       1        3     4.0  964981247\n",
       "2       1        6     4.0  964982224\n",
       "3       1       47     5.0  964983815\n",
       "4       1       50     5.0  964982931"
      ]
     },
     "execution_count": 2,
     "metadata": {},
     "output_type": "execute_result"
    }
   ],
   "source": [
    "import pandas as pd\n",
    "\n",
    "# Cargamos ratings y movies\n",
    "ratings = pd.read_csv( \"./input/ratings.csv\")\n",
    "movies = pd.read_csv(\"./input/movies.csv\")\n",
    "\n",
    "ratings.head()"
   ]
  },
  {
   "cell_type": "code",
   "execution_count": 3,
   "metadata": {
    "colab": {
     "base_uri": "https://localhost:8080/",
     "height": 206
    },
    "id": "ixWaFQ_1fxRR",
    "outputId": "bc4d2d69-2710-48e2-9b59-9dfbddc1c165"
   },
   "outputs": [
    {
     "data": {
      "application/vnd.microsoft.datawrangler.viewer.v0+json": {
       "columns": [
        {
         "name": "index",
         "rawType": "int64",
         "type": "integer"
        },
        {
         "name": "movieId",
         "rawType": "int64",
         "type": "integer"
        },
        {
         "name": "title",
         "rawType": "object",
         "type": "string"
        },
        {
         "name": "genres",
         "rawType": "object",
         "type": "string"
        }
       ],
       "ref": "96c69f1a-efad-4f0b-9fce-4c8b91e86b4d",
       "rows": [
        [
         "0",
         "1",
         "Toy Story (1995)",
         "Adventure|Animation|Children|Comedy|Fantasy"
        ],
        [
         "1",
         "2",
         "Jumanji (1995)",
         "Adventure|Children|Fantasy"
        ],
        [
         "2",
         "3",
         "Grumpier Old Men (1995)",
         "Comedy|Romance"
        ],
        [
         "3",
         "4",
         "Waiting to Exhale (1995)",
         "Comedy|Drama|Romance"
        ],
        [
         "4",
         "5",
         "Father of the Bride Part II (1995)",
         "Comedy"
        ]
       ],
       "shape": {
        "columns": 3,
        "rows": 5
       }
      },
      "text/html": [
       "<div>\n",
       "<style scoped>\n",
       "    .dataframe tbody tr th:only-of-type {\n",
       "        vertical-align: middle;\n",
       "    }\n",
       "\n",
       "    .dataframe tbody tr th {\n",
       "        vertical-align: top;\n",
       "    }\n",
       "\n",
       "    .dataframe thead th {\n",
       "        text-align: right;\n",
       "    }\n",
       "</style>\n",
       "<table border=\"1\" class=\"dataframe\">\n",
       "  <thead>\n",
       "    <tr style=\"text-align: right;\">\n",
       "      <th></th>\n",
       "      <th>movieId</th>\n",
       "      <th>title</th>\n",
       "      <th>genres</th>\n",
       "    </tr>\n",
       "  </thead>\n",
       "  <tbody>\n",
       "    <tr>\n",
       "      <th>0</th>\n",
       "      <td>1</td>\n",
       "      <td>Toy Story (1995)</td>\n",
       "      <td>Adventure|Animation|Children|Comedy|Fantasy</td>\n",
       "    </tr>\n",
       "    <tr>\n",
       "      <th>1</th>\n",
       "      <td>2</td>\n",
       "      <td>Jumanji (1995)</td>\n",
       "      <td>Adventure|Children|Fantasy</td>\n",
       "    </tr>\n",
       "    <tr>\n",
       "      <th>2</th>\n",
       "      <td>3</td>\n",
       "      <td>Grumpier Old Men (1995)</td>\n",
       "      <td>Comedy|Romance</td>\n",
       "    </tr>\n",
       "    <tr>\n",
       "      <th>3</th>\n",
       "      <td>4</td>\n",
       "      <td>Waiting to Exhale (1995)</td>\n",
       "      <td>Comedy|Drama|Romance</td>\n",
       "    </tr>\n",
       "    <tr>\n",
       "      <th>4</th>\n",
       "      <td>5</td>\n",
       "      <td>Father of the Bride Part II (1995)</td>\n",
       "      <td>Comedy</td>\n",
       "    </tr>\n",
       "  </tbody>\n",
       "</table>\n",
       "</div>"
      ],
      "text/plain": [
       "   movieId                               title  \\\n",
       "0        1                    Toy Story (1995)   \n",
       "1        2                      Jumanji (1995)   \n",
       "2        3             Grumpier Old Men (1995)   \n",
       "3        4            Waiting to Exhale (1995)   \n",
       "4        5  Father of the Bride Part II (1995)   \n",
       "\n",
       "                                        genres  \n",
       "0  Adventure|Animation|Children|Comedy|Fantasy  \n",
       "1                   Adventure|Children|Fantasy  \n",
       "2                               Comedy|Romance  \n",
       "3                         Comedy|Drama|Romance  \n",
       "4                                       Comedy  "
      ]
     },
     "execution_count": 3,
     "metadata": {},
     "output_type": "execute_result"
    }
   ],
   "source": [
    "movies.head()"
   ]
  },
  {
   "cell_type": "code",
   "execution_count": 4,
   "metadata": {},
   "outputs": [
    {
     "data": {
      "application/vnd.microsoft.datawrangler.viewer.v0+json": {
       "columns": [
        {
         "name": "rating",
         "rawType": "float64",
         "type": "float"
        },
        {
         "name": "count",
         "rawType": "int64",
         "type": "integer"
        }
       ],
       "ref": "71006725-07f6-4a87-9c6a-bbd608b378ca",
       "rows": [
        [
         "4.0",
         "26818"
        ],
        [
         "3.0",
         "20047"
        ],
        [
         "5.0",
         "13211"
        ],
        [
         "3.5",
         "13136"
        ],
        [
         "4.5",
         "8551"
        ],
        [
         "2.0",
         "7551"
        ],
        [
         "2.5",
         "5550"
        ],
        [
         "1.0",
         "2811"
        ],
        [
         "1.5",
         "1791"
        ],
        [
         "0.5",
         "1370"
        ]
       ],
       "shape": {
        "columns": 1,
        "rows": 10
       }
      },
      "text/plain": [
       "rating\n",
       "4.0    26818\n",
       "3.0    20047\n",
       "5.0    13211\n",
       "3.5    13136\n",
       "4.5     8551\n",
       "2.0     7551\n",
       "2.5     5550\n",
       "1.0     2811\n",
       "1.5     1791\n",
       "0.5     1370\n",
       "Name: count, dtype: int64"
      ]
     },
     "execution_count": 4,
     "metadata": {},
     "output_type": "execute_result"
    }
   ],
   "source": [
    "ratings.rating.value_counts()"
   ]
  },
  {
   "cell_type": "markdown",
   "metadata": {
    "id": "T3Zz2EJZZpUn"
   },
   "source": [
    "### El problema del sesgo en la factorización\n",
    "\n",
    "La **factorización matricial (SVD)** nos permite aproximar la matriz de interacciones:\n",
    "\n",
    "$$\n",
    "R \\approx P Q^T\n",
    "$$\n",
    "\n",
    "donde:\n",
    "- $P$ representa características latentes de usuarios.  \n",
    "- $Q$ representa características latentes de ítems.  \n",
    "\n",
    "Con esto podemos predecir la preferencia de un usuario por un ítem.\n",
    "\n",
    "**Pero hay un problema importante:** si los datos de $R$ están sesgados (ejemplo: solo vemos películas populares porque fueron más expuestas), entonces **la factorización también aprenderá ese sesgo**.  \n",
    "\n",
    "En la práctica, esto significa que el modelo recomendará **más de lo mismo** (lo popular), reforzando el bucle de retroalimentación.\n",
    "\n",
    "\n",
    "### Para corregir el sesgo: IPS\n",
    "\n",
    "La clave está en reconocer que **no todos los pares usuario–ítem tienen la misma probabilidad de aparecer en los datos**.  \n",
    "A esto lo llamamos **propensión**:\n",
    "\n",
    "$$\n",
    "e_{ui} = \\Pr(A_{ui} = 1 \\mid u,i)\n",
    "$$\n",
    "\n",
    "Donde:\n",
    "\n",
    "- $u$: índice del **usuario** (ej. Juan, usuario #15).  \n",
    "- $i$: índice del **ítem** (ej. Película X, ítem #203).\n",
    "- $A_{ui}=1$ significa que el usuario $u$ tuvo la oportunidad de ver el ítem $i$.\n",
    "- $e_{ui}$: la **propensión**, es decir, la probabilidad de que el par usuario–ítem $(u,i)$ se **muestre** en los datos.  \n",
    "  - Ejemplo: si una película aparece en la página principal y la ven el 80% de los usuarios, su $e_{ui}$ será alto.  \n",
    "  - Si una película rara apenas aparece, su $e_{ui}$ será bajo.\n",
    "\n",
    "\n",
    "#### Inverse Propensity Scoring (IPS)\n",
    "La idea es **reponderar cada observación** de acuerdo a su propensión.  \n",
    "Así, los pares muy expuestos (ej. ítems populares) pesan menos, y los pares poco expuestos pesan más.\n",
    "\n",
    "$$\n",
    "w_{ui} = \\frac{1}{e_{ui}}\n",
    "$$\n",
    "\n",
    "- Si $e_{ui}$ es **alto** (ítem popular, siempre mostrado) → $w_{ui}$ es pequeño.  \n",
    "- Si $e_{ui}$ es **bajo** (ítem de nicho, poco mostrado) → $w_{ui}$ es grande.  \n",
    "\n",
    "Esto balancea el entrenamiento y reduce el sesgo de popularidad.\n",
    "\n",
    "\n",
    "### Ejemplo IPS\n",
    "\n",
    "Imaginemos dos películas:\n",
    "\n",
    "- **Película A (blockbuster):** fue mostrada al **90%** de los usuarios.  \n",
    "  - Propensión: $e_{ui} = 0.9$\n",
    "  - Peso IPS:  \n",
    "  $$\n",
    "  w_{ui} = \\frac{1}{0.9} \\approx 1.11\n",
    "  $$\n",
    "\n",
    "- **Película B (de nicho):** fue mostrada solo al **10%** de los usuarios.  \n",
    "  - Propensión: $e_{ui} = 0.1$\n",
    "  - Peso IPS:  \n",
    "  $$\n",
    "  w_{ui} = \\frac{1}{0.1} = 10\n",
    "  $$\n",
    "\n",
    "\n",
    "### Interpretación\n",
    "\n",
    "- Si un error ocurre con **Película A** (muy popular), su impacto en el entrenamiento es bajo $(w \\approx 1)$.  \n",
    "- Si un error ocurre con **Película B** (poco expuesta), su impacto es **10 veces mayor**.\n",
    "\n",
    "Esto significa que el modelo aprende a **no dejar de lado los ítems poco expuestos**, corrigiendo el sesgo hacia lo popular.\n",
    "\n",
    "### La corrección con IPS\n",
    "En IPS, no reemplazamos \\(R\\), sino que ajustamos **la importancia de cada entrada** en la factorización.  \n",
    "\n",
    "$$\n",
    "\\tilde{R}_{ui} = w_{ui} \\cdot R_{ui} \\quad \\text{con} \\quad w_{ui} = \\frac{1}{e_{ui}}\n",
    "$$\n",
    "\n",
    "- $\\tilde{R}$ = versión **reponderada** de la matriz de interacciones.  \n",
    "\n",
    "### Factorización reponderada\n",
    "\n",
    "En lugar de minimizar solo el error sobre $R$, resolvemos:\n",
    "\n",
    "$$\n",
    "\\min_{P,Q} \\sum_{(u,i)\\in \\Omega} w_{ui} \\, \\big( R_{ui} - P_u \\cdot Q_i \\big)^2\n",
    "$$\n",
    "\n",
    "Donde:\n",
    "- $\\Omega$ es el conjunto de pares usuario–ítem observados.  \n",
    "- Cada error se multiplica por $w_{ui}$.  \n",
    "\n",
    "\n",
    "### Implementación\n",
    "\n",
    "En nuestro caso:\n",
    "- Usaremos una **regresión logística** para la propensión.\n",
    "- Calculamos los pesos $w_{ui}$ (con clipping para evitar valores extremos).  \n",
    "- Entrenamos un modelo de factorización.  \n",
    "\n",
    "En librerías como **LightFM**, esto se implementa fácilmente pasando los $w_{ui}$ como `sample_weight` en el entrenamiento.\n",
    "\n",
    "El resultado sera un modelo que no solo busca **minimizar el error**, sino que además **corrige el sesgo de exposición**, generando recomendaciones más justas y diversas."
   ]
  },
  {
   "cell_type": "code",
   "execution_count": 5,
   "metadata": {},
   "outputs": [
    {
     "data": {
      "application/vnd.microsoft.datawrangler.viewer.v0+json": {
       "columns": [
        {
         "name": "index",
         "rawType": "int64",
         "type": "integer"
        },
        {
         "name": "movieId",
         "rawType": "int64",
         "type": "integer"
        },
        {
         "name": "title",
         "rawType": "object",
         "type": "string"
        },
        {
         "name": "genres",
         "rawType": "object",
         "type": "string"
        }
       ],
       "ref": "fbac5fda-b43e-474b-8f9f-6e15287110c4",
       "rows": [
        [
         "314",
         "356",
         "Forrest Gump (1994)",
         "Comedy|Drama|Romance|War"
        ]
       ],
       "shape": {
        "columns": 3,
        "rows": 1
       }
      },
      "text/html": [
       "<div>\n",
       "<style scoped>\n",
       "    .dataframe tbody tr th:only-of-type {\n",
       "        vertical-align: middle;\n",
       "    }\n",
       "\n",
       "    .dataframe tbody tr th {\n",
       "        vertical-align: top;\n",
       "    }\n",
       "\n",
       "    .dataframe thead th {\n",
       "        text-align: right;\n",
       "    }\n",
       "</style>\n",
       "<table border=\"1\" class=\"dataframe\">\n",
       "  <thead>\n",
       "    <tr style=\"text-align: right;\">\n",
       "      <th></th>\n",
       "      <th>movieId</th>\n",
       "      <th>title</th>\n",
       "      <th>genres</th>\n",
       "    </tr>\n",
       "  </thead>\n",
       "  <tbody>\n",
       "    <tr>\n",
       "      <th>314</th>\n",
       "      <td>356</td>\n",
       "      <td>Forrest Gump (1994)</td>\n",
       "      <td>Comedy|Drama|Romance|War</td>\n",
       "    </tr>\n",
       "  </tbody>\n",
       "</table>\n",
       "</div>"
      ],
      "text/plain": [
       "     movieId                title                    genres\n",
       "314      356  Forrest Gump (1994)  Comedy|Drama|Romance|War"
      ]
     },
     "execution_count": 5,
     "metadata": {},
     "output_type": "execute_result"
    }
   ],
   "source": [
    "movies[movies['movieId']==356]"
   ]
  },
  {
   "cell_type": "markdown",
   "metadata": {
    "id": "DmGm4_XWi3zX"
   },
   "source": [
    "### Comparación: Baseline vs IPS\n",
    "Veremos:\n",
    "1. RMSE (aprox. igual o un poco peor con IPS, pero más **justo**).\n",
    "2. **Popularidad promedio** de ítems recomendados (con IPS podría bajar)."
   ]
  },
  {
   "cell_type": "code",
   "execution_count": null,
   "metadata": {},
   "outputs": [
    {
     "name": "stdout",
     "output_type": "stream",
     "text": [
      "Requirement already satisfied: numpy<2 in /root/causal/env_causal/lib/python3.10/site-packages (1.26.4)\n",
      "\n",
      "\u001b[1m[\u001b[0m\u001b[34;49mnotice\u001b[0m\u001b[1;39;49m]\u001b[0m\u001b[39;49m A new release of pip is available: \u001b[0m\u001b[31;49m23.0.1\u001b[0m\u001b[39;49m -> \u001b[0m\u001b[32;49m25.2\u001b[0m\n",
      "\u001b[1m[\u001b[0m\u001b[34;49mnotice\u001b[0m\u001b[1;39;49m]\u001b[0m\u001b[39;49m To update, run: \u001b[0m\u001b[32;49mpip install --upgrade pip\u001b[0m\n"
     ]
    }
   ],
   "source": [
    "#!pip install surprise\n",
    "!pip install \"numpy<2\""
   ]
  },
  {
   "cell_type": "code",
   "execution_count": 6,
   "metadata": {},
   "outputs": [
    {
     "name": "stdout",
     "output_type": "stream",
     "text": [
      "1.26.4\n"
     ]
    }
   ],
   "source": [
    "#!pip uninstall numpy -y\n",
    "#!pip install \"numpy<2\"\n",
    "import numpy as np\n",
    "print(np.__version__)"
   ]
  },
  {
   "cell_type": "code",
   "execution_count": null,
   "metadata": {},
   "outputs": [],
   "source": []
  },
  {
   "cell_type": "code",
   "execution_count": 2,
   "metadata": {},
   "outputs": [
    {
     "ename": "ModuleNotFoundError",
     "evalue": "No module named 'surprise'",
     "output_type": "error",
     "traceback": [
      "\u001b[0;31m---------------------------------------------------------------------------\u001b[0m",
      "\u001b[0;31mModuleNotFoundError\u001b[0m                       Traceback (most recent call last)",
      "Cell \u001b[0;32mIn[2], line 1\u001b[0m\n\u001b[0;32m----> 1\u001b[0m \u001b[38;5;28;01mfrom\u001b[39;00m\u001b[38;5;250m \u001b[39m\u001b[38;5;21;01msurprise\u001b[39;00m\u001b[38;5;250m \u001b[39m\u001b[38;5;28;01mimport\u001b[39;00m Dataset, Reader, SVD\n\u001b[1;32m      3\u001b[0m \u001b[38;5;28;01mfrom\u001b[39;00m\u001b[38;5;250m \u001b[39m\u001b[38;5;21;01msklearn\u001b[39;00m\u001b[38;5;21;01m.\u001b[39;00m\u001b[38;5;21;01mmetrics\u001b[39;00m\u001b[38;5;250m \u001b[39m\u001b[38;5;28;01mimport\u001b[39;00m mean_squared_error\n\u001b[1;32m      4\u001b[0m \u001b[38;5;28;01mfrom\u001b[39;00m\u001b[38;5;250m \u001b[39m\u001b[38;5;21;01mlightfm\u001b[39;00m\u001b[38;5;250m \u001b[39m\u001b[38;5;28;01mimport\u001b[39;00m LightFM\n",
      "\u001b[0;31mModuleNotFoundError\u001b[0m: No module named 'surprise'"
     ]
    }
   ],
   "source": [
    "from surprise import Dataset, Reader, SVD\n",
    "\n",
    "from sklearn.metrics import mean_squared_error\n",
    "from lightfm import LightFM\n",
    "from scipy import sparse\n",
    "import numpy as np\n",
    "import pandas as pd\n",
    "from sklearn.linear_model import LogisticRegression\n",
    "import random"
   ]
  },
  {
   "cell_type": "code",
   "execution_count": 9,
   "metadata": {},
   "outputs": [
    {
     "name": "stdout",
     "output_type": "stream",
     "text": [
      "RMSE Baseline (SVD sin IPS): 0.9373953905032041\n",
      "RMSE LightFM + IPS (logit prop): 33.4377282628473\n",
      "Popularidad media Top-1000 (Baseline SVD): 31.251744\n",
      "Popularidad media Top-1000 (LightFM IPS): 42.255228\n"
     ]
    }
   ],
   "source": [
    "#  SPLIT ÚNICO \n",
    "\n",
    "# Última interacción de cada usuario como test\n",
    "r_sorted = ratings.sort_values([\"userId\",\"timestamp\"])\n",
    "last_idx = r_sorted.groupby(\"userId\").tail(1).index #AGRUPANDO por usuario\n",
    "test_df = r_sorted.loc[last_idx]  #se usa la última observación de cada usuario\n",
    "train_df = r_sorted.drop(index=last_idx)\n",
    "\n",
    "# Popularidad de items (misma referencia para ambos modelos) - conteo de las interacciones\n",
    "pop = train_df[\"movieId\"].value_counts().to_dict()\n",
    "\n",
    "#  BASELINE SVD\n",
    "\n",
    "reader = Reader(rating_scale=(0.5, 5.0))\n",
    "data_surprise = Dataset.load_from_df(train_df[[\"userId\",\"movieId\",\"rating\"]], reader)\n",
    "trainset = data_surprise.build_full_trainset() # estructura de datos interna y optimizada para algoritmos de surprise\n",
    "\n",
    "algo = SVD(n_factors=50, n_epochs=20, random_state=42)\n",
    "algo.fit(trainset) #Aquí se lleva a cabo la factorización\n",
    "\n",
    "# Predicciones y RMSE\n",
    "# recolecta las calificaciones reales y las calificaciones predichas por el modelo SVD \n",
    "# para cada una de las interacciones en el conjunto de prueba:\n",
    "y_true_svd, y_pred_svd = [], []\n",
    "for r in test_df.itertuples(index=False):\n",
    "    y_true_svd.append(float(r.rating))\n",
    "    y_pred_svd.append(algo.predict(r.userId, r.movieId).est) #calificación estimada del modelo\n",
    "\n",
    "rmse_svd = mean_squared_error(y_true_svd, y_pred_svd) # !!!!!!!!!!!!!!!!!! #, squared=False\n",
    "print(\"RMSE Baseline (SVD sin IPS):\", rmse_svd)\n",
    "\n",
    "# Función de recomendaciones con SVD\n",
    "def recs_svd(uid, n=10):\n",
    "    all_items = ratings[\"movieId\"].unique()\n",
    "    seen = set(train_df[train_df[\"userId\"] == uid][\"movieId\"]) #si ya las vio el usuario\n",
    "    preds = [(iid, algo.predict(uid, iid).est) for iid in all_items if iid not in seen] #predice sobre lo no visto\n",
    "    preds.sort(key=lambda x: -x[1]) #ordena de mayor a menor calif predicha las no vistas\n",
    "    return [iid for iid, _ in preds[:n]] #devuelve los IDs de las primeras n peículas de esa lista ordenada\n",
    "\n",
    "#  LIGHTFM con IPS \n",
    "\n",
    "# Reindexado usuarios/items para que queden de la forma 0...N-1\n",
    "uids = {u:i for i,u in enumerate(sorted(ratings[\"userId\"].unique()))} #u es el id del usuario\n",
    "iids = {m:i for i,m in enumerate(sorted(ratings[\"movieId\"].unique()))} #m es el id de la película\n",
    "U, I = len(uids), len(iids)\n",
    "\n",
    "# Matriz de interacciones train\n",
    "R = sparse.lil_matrix((U, I), dtype=np.float32) #declaro la matrix\n",
    "for r in train_df.itertuples(index=False):\n",
    "    R[uids[r.userId], iids[r.movieId]] = float(r.rating) #llenar la matriz\n",
    "\n",
    "#  PROPENSIÓN (modelo logístico)\n",
    "\n",
    "# Construimos dataset de exposición (positivos = interacciones en train, negativos = muestreados)\n",
    "ua = train_df[\"userId\"].value_counts().to_dict()\n",
    "ip = train_df[\"movieId\"].value_counts().to_dict()\n",
    "\n",
    "rows = []\n",
    "# positivos\n",
    "for r in train_df.itertuples(index=False):\n",
    "    rows.append([ua[r.userId], ip[r.movieId], 1])\n",
    "# negativos (pares no observados)\n",
    "users = ratings[\"userId\"].unique()\n",
    "items = ratings[\"movieId\"].unique()\n",
    "for _ in range(len(train_df)):\n",
    "    u = random.choice(users) #ojo aquí\n",
    "    i = random.choice(items)\n",
    "    if not ((train_df[\"userId\"]==u) & (train_df[\"movieId\"]==i)).any():\n",
    "        rows.append([ua.get(u,0), ip.get(i,0), 0])\n",
    "\n",
    "exp_df = pd.DataFrame(rows, columns=[\"ua\",\"ip\",\"exposed\"])\n",
    "\n",
    "# Entrenamos regresión logística para estimar propensity score\n",
    "X = exp_df[[\"ua\",\"ip\"]]\n",
    "y = exp_df[\"exposed\"]\n",
    "logit = LogisticRegression(max_iter=500)\n",
    "logit.fit(X, y)\n",
    "\n",
    "# Definimos e_ui a partir del modelo aprendido\n",
    "def e_ui(u,i):\n",
    "    return logit.predict_proba([[ua.get(u,0), ip.get(i,0)]])[0,1]\n",
    "\n",
    "# Construimos matriz de pesos IPS\n",
    "W = sparse.lil_matrix((U,I), dtype=np.float32) #definiendo la estructura de la sparse matrix\n",
    "for r in train_df.itertuples(index=False):\n",
    "    W[uids[r.userId], iids[r.movieId]] = 1/max(e_ui(r.userId, r.movieId), 1e-6) #llenando la matriz\n",
    "\n",
    "#  Entrenamiento LightFM \n",
    "\n",
    "model = LightFM(no_components=32, loss='warp', random_state=42)\n",
    "model.fit(R.tocsr(), sample_weight=W.tocoo(), epochs=15, num_threads=2)\n",
    "\n",
    "# Predicciones y RMSE\n",
    "y_true_lfm, y_pred_lfm = [], []\n",
    "for r in test_df.itertuples(index=False):\n",
    "    u_idx, i_idx = uids[r.userId], iids[r.movieId]\n",
    "    y_true_lfm.append(float(r.rating))\n",
    "    y_pred_lfm.append(model.predict(u_idx, np.array([i_idx]))[0])\n",
    "\n",
    "rmse_lfm = mean_squared_error(y_true_lfm, y_pred_lfm) # !!!!!!!!!!!!!!!, squared=False\n",
    "print(\"RMSE LightFM + IPS (logit prop):\", rmse_lfm)\n",
    "\n",
    "# Función de recomendaciones con LightFM\n",
    "def recommend_lightfm(uid_raw, n=10):\n",
    "    uid = uids[uid_raw]\n",
    "    scores = model.predict(uid, np.arange(I))\n",
    "    seen = set(train_df[train_df[\"userId\"] == uid_raw][\"movieId\"])\n",
    "    recs = [(mid, scores[iids[mid]]) for mid in iids if mid not in seen]\n",
    "    recs.sort(key=lambda x: -x[1])\n",
    "    return [mid for mid, _ in recs[:n]]\n",
    "\n",
    "#  Popularidad media (Top-1000) \n",
    "# Mide si las recomendaciones de cada modelo se concentran en ítems populares o si logran diversificar.\n",
    "def avg_pop(method_fn, users_eval, n=1000):\n",
    "    vals = []\n",
    "    for u in users_eval:\n",
    "        recs = method_fn(u, n=n)\n",
    "        vals.append(np.mean([pop.get(m, 0) for m in recs]))\n",
    "    return np.mean(vals)\n",
    "\n",
    "users_eval = list(test_df[\"userId\"].unique())[:500]\n",
    "\n",
    "print(\"Popularidad media Top-1000 (Baseline SVD):\", avg_pop(recs_svd, users_eval, n=1000))\n",
    "print(\"Popularidad media Top-1000 (LightFM IPS):\", avg_pop(recommend_lightfm, users_eval, n=1000))\n"
   ]
  },
  {
   "cell_type": "code",
   "execution_count": 10,
   "metadata": {},
   "outputs": [
    {
     "name": "stdout",
     "output_type": "stream",
     "text": [
      "Coverage Top-1000 (Baseline SVD): 0.6826408885232415\n",
      "Coverage Top-1000 (LightFM IPS): 0.7519539284245167\n"
     ]
    }
   ],
   "source": [
    "def coverage(method_fn, users_eval, n=1000):\n",
    "    rec_items = set()\n",
    "    for u in users_eval:\n",
    "        recs = method_fn(u, n=n)\n",
    "        rec_items.update(recs)\n",
    "    total_items = len(ratings[\"movieId\"].unique())\n",
    "    return len(rec_items) / total_items\n",
    "\n",
    "print(\"Coverage Top-1000 (Baseline SVD):\", coverage(recs_svd, users_eval, n=1000))\n",
    "print(\"Coverage Top-1000 (LightFM IPS):\", coverage(recommend_lightfm, users_eval, n=1000))\n"
   ]
  },
  {
   "cell_type": "markdown",
   "metadata": {
    "id": "0rTOvRLXjNYc"
   },
   "source": [
    "# Conclusiones\n",
    "- Los **confusores** sesgan la exposición y refuerzan lo popular.\n",
    "- El **baseline (SVD sin corrección)** recomienda ítems más populares.\n",
    "- Con **IPS (LightFM con sample_weight)** equilibramos el entrenamiento:\n",
    "  - Similar RMSE, pero recomendaciones menos sesgadas hacia la popularidad.\n",
    "  - Mayor diversidad en el ranking.\n",
    "- En producción: modelar propensión con más señales (posición, campaña, dispositivo).\n"
   ]
  },
  {
   "cell_type": "code",
   "execution_count": null,
   "metadata": {},
   "outputs": [],
   "source": []
  }
 ],
 "metadata": {
  "colab": {
   "provenance": [],
   "toc_visible": true
  },
  "kernelspec": {
   "display_name": "env_causal (3.10.12)",
   "language": "python",
   "name": "python3"
  },
  "language_info": {
   "codemirror_mode": {
    "name": "ipython",
    "version": 3
   },
   "file_extension": ".py",
   "mimetype": "text/x-python",
   "name": "python",
   "nbconvert_exporter": "python",
   "pygments_lexer": "ipython3",
   "version": "3.10.12"
  }
 },
 "nbformat": 4,
 "nbformat_minor": 4
}
